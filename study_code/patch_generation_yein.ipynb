{
 "cells": [
  {
   "cell_type": "markdown",
   "metadata": {},
   "source": [
    "# patch generation \n",
    "편집자: MAI&CV lab 소속 오예인 (yeinoh36@gmail.com)"
   ]
  },
  {
   "cell_type": "code",
   "execution_count": 1,
   "metadata": {},
   "outputs": [],
   "source": [
    "import os\n",
    "import cv2\n",
    "import openslide\n",
    "import numpy as np\n",
    "from skimage import filters\n",
    "from lxml import etree\n",
    "from tqdm import trange"
   ]
  },
  {
   "cell_type": "code",
   "execution_count": 2,
   "metadata": {},
   "outputs": [],
   "source": [
    "def get_ratio_mask(patch):\n",
    "    h_, w_ = patch.shape[0], patch.shape[1]\n",
    "    n_total = h_*w_\n",
    "    n_cell = np.count_nonzero(patch)\n",
    "    if (n_cell != 0):\n",
    "        return n_cell*1.0/n_total*1.0\n",
    "    else:\n",
    "        return 0\n",
    "    \n",
    "def save_image(save_path, patch_name, image_patch):\n",
    "    os.makedirs(save_path, exist_ok = True)\n",
    "    cv2.imwrite(os.path.join(save_path, patch_name), image_patch)\n",
    "\n",
    "def execute_patch(image_patch, target_patch_size, save_path, start_levelm_x, start_levelm_y, patch_count, patch_label):\n",
    "    resize_image = cv2.resize(image_patch, (target_patch_size,target_patch_size), cv2.INTER_AREA)\n",
    "    save_image(save_path, f'{start_levelm_x}_{start_levelm_y}_{patch_count}_{patch_label}.png', resize_image)\n",
    "\n",
    "def get_tissue_mask(rgb_image):\n",
    "    hsv = cv2.cvtColor(rgb_image,cv2.COLOR_RGB2HSV)\n",
    "    tissue_S = hsv[:, :, 1] > filters.threshold_otsu(hsv[:, :, 1])\n",
    "    background_R = rgb_image[:, :, 0] > filters.threshold_otsu(rgb_image[:, :, 0])\n",
    "    background_G = rgb_image[:, :, 1] > filters.threshold_otsu(rgb_image[:, :, 1])\n",
    "    background_B = rgb_image[:, :, 2] > filters.threshold_otsu(rgb_image[:, :, 2])\n",
    "    tissue_RGB = np.logical_not(background_R & background_G & background_B)\n",
    "    mask = tissue_S & (tissue_RGB)\n",
    "    ret = np.array(mask).astype(np.uint8)\n",
    "    return ret\n",
    "\n",
    "def get_anno_list(anno_path, min_size, min_downsample):\n",
    "    pts_list = []\n",
    "    trees = etree.parse(anno_path).getroot()[0]\n",
    "\n",
    "    for tree in trees:\n",
    "        if (tree.get('PartOfGroup') == 'Tumor'):\n",
    "            regions = tree.findall('Coordinates')\n",
    "            for region in regions:\n",
    "                coordinates = region.findall('Coordinate')\n",
    "                pts = list()\n",
    "                for coord in coordinates:\n",
    "                      x = float(coord.get('X'))\n",
    "                      y = float(coord.get('Y'))\n",
    "                      x = np.clip(round(x/min_downsample), 0, round(min_size[0]))\n",
    "                      y = np.clip(round(y/min_downsample), 0, round(min_size[1]))\n",
    "                      pts.append((x,y))\n",
    "                pts_list.append(pts)\n",
    "    return pts_list\n",
    "\n",
    "def get_anno_mask(pts_list, min_size):\n",
    "    # 주의 numpy로 mask 생성 시 w,h 순서가 아닌 h,w !!\n",
    "    mask = np.zeros((min_size[1],min_size[0])).astype(np.uint8)\n",
    "    for pts in pts_list:\n",
    "        point = [np.array(pts, dtype=np.int32)]\n",
    "        mask = cv2.fillPoly(mask, point, 1)\n",
    "    return mask"
   ]
  },
  {
   "cell_type": "code",
   "execution_count": 3,
   "metadata": {},
   "outputs": [],
   "source": [
    "import os\n",
    "\n",
    "base_slide_path = '/data3/yumi/TCGA_STAD'\n",
    "\n",
    "# tif_files = [file for file in os.listdir(base_slide_path) if file.endswith('.tif')]\n",
    "# tif_files_sorted = sorted(tif_files)\n",
    "\n",
    "def find_svs_files(base_path):\n",
    "    svs_files = []\n",
    "    for root, dirs, files in os.walk(base_path):\n",
    "        for file in files:\n",
    "            if file.endswith('.svs'):\n",
    "                full_path = os.path.join(root, file)\n",
    "                svs_files.append([file, full_path])\n",
    "    return svs_files\n",
    "\n",
    "svs_files = find_svs_files(base_slide_path)\n",
    "svs_files_sorted = sorted(svs_files)"
   ]
  },
  {
   "cell_type": "code",
   "execution_count": 5,
   "metadata": {},
   "outputs": [
    {
     "name": "stdout",
     "output_type": "stream",
     "text": [
      "Error opening slide: cannot identify image file '/data3/yumi/TCGA_STAD/5dca3a38-9021-4a76-87ec-dfbe2a0a008b/TCGA-3M-AB46-01Z-00-DX1.70F638A0-BDCB-4BDE-BBFE-6D78A1A08C5B.svs'\n"
     ]
    },
    {
     "name": "stderr",
     "output_type": "stream",
     "text": [
      "100%|██████████| 79/79 [02:29<00:00,  1.89s/it]\n"
     ]
    },
    {
     "name": "stdout",
     "output_type": "stream",
     "text": [
      "Error opening slide: cannot identify image file '/data3/yumi/TCGA_STAD/59e9d91b-f7a2-4fc7-a53f-c47031f338e6/TCGA-B7-5816-01Z-00-DX1.1B05F96A-D5E2-4366-A098-A861313F3461.svs'\n",
      "Error opening slide: cannot identify image file '/data3/yumi/TCGA_STAD/d27cc934-a03c-4055-afda-fa7283b827bf/TCGA-BR-6452-01Z-00-DX1.aec8246e-9dce-436d-9faa-df8fa1f6e47c.svs'\n"
     ]
    },
    {
     "name": "stderr",
     "output_type": "stream",
     "text": [
      "100%|██████████| 44/44 [02:38<00:00,  3.60s/it]\n"
     ]
    },
    {
     "name": "stdout",
     "output_type": "stream",
     "text": [
      "Error opening slide: cannot identify image file '/data3/yumi/TCGA_STAD/d1d64258-a7b1-474f-8e82-43025a6db293/TCGA-BR-6454-01Z-00-DX1.63fb6280-2b43-49b2-960a-eb9c0e8b617c.svs'\n",
      "Error opening slide: cannot identify image file '/data3/yumi/TCGA_STAD/8450f85f-ab36-4a75-8169-e684cc0f7ab8/TCGA-BR-6455-01Z-00-DX1.402682fe-98b4-4381-85da-98510db17af9.svs'\n",
      "Error opening slide: cannot identify image file '/data3/yumi/TCGA_STAD/8754286b-452e-4d96-95e8-848f39d7cc11/TCGA-BR-6456-01Z-00-DX1.2cb7b656-95e1-4f34-99e6-77a051fb79e5.svs'\n"
     ]
    },
    {
     "name": "stderr",
     "output_type": "stream",
     "text": [
      "100%|██████████| 52/52 [02:47<00:00,  3.21s/it]\n"
     ]
    },
    {
     "name": "stdout",
     "output_type": "stream",
     "text": [
      "Error opening slide: cannot identify image file '/data3/yumi/TCGA_STAD/75098fcc-e02d-4b94-959f-66e55cf167a1/TCGA-BR-6458-01Z-00-DX1.e889b058-99ab-4337-84a5-60a884caad55.svs'\n",
      "Error opening slide: cannot identify image file '/data3/yumi/TCGA_STAD/7c6180f0-e8ac-49f8-b1a4-a3e175d6e2e7/TCGA-BR-6563-01Z-00-DX1.2398c0e0-47a6-4557-8e2d-3b890756900a.svs'\n",
      "Error opening slide: cannot identify image file '/data3/yumi/TCGA_STAD/b22523fb-c0bc-40d9-9d4f-09dde83d2a7e/TCGA-BR-6564-01Z-00-DX1.ad86e83f-ebfd-4eee-8bf8-7490c5f79a17.svs'\n",
      "Error opening slide: cannot identify image file '/data3/yumi/TCGA_STAD/a37cfe32-972d-4d70-83da-95b20c854ab7/TCGA-BR-6565-01Z-00-DX1.0e53f881-e0d7-4906-946a-67f612906476.svs'\n",
      "Error opening slide: cannot identify image file '/data3/yumi/TCGA_STAD/6a294409-4bd8-4cc0-b11d-89dc3ecbd62b/TCGA-BR-6566-01Z-00-DX1.908c1c0f-12a4-4fa8-a398-ca3b033e7496.svs'\n"
     ]
    },
    {
     "name": "stderr",
     "output_type": "stream",
     "text": [
      "100%|██████████| 79/79 [02:59<00:00,  2.27s/it]\n",
      "100%|██████████| 76/76 [01:10<00:00,  1.07it/s]\n"
     ]
    },
    {
     "name": "stdout",
     "output_type": "stream",
     "text": [
      "Error opening slide: cannot identify image file '/data3/yumi/TCGA_STAD/7ce8ed43-9269-4396-9c3e-c727a1d20673/TCGA-BR-6707-01Z-00-DX1.fade928c-b514-43d8-90dd-37b505df9992.svs'\n"
     ]
    },
    {
     "name": "stderr",
     "output_type": "stream",
     "text": [
      "100%|██████████| 84/84 [01:18<00:00,  1.06it/s]\n"
     ]
    },
    {
     "name": "stdout",
     "output_type": "stream",
     "text": [
      "Error opening slide: cannot identify image file '/data3/yumi/TCGA_STAD/9e60d1a8-6881-4639-9500-2866dddd78fb/TCGA-BR-6710-01Z-00-DX1.9368e11d-9000-4e84-8772-a0ee54932049.svs'\n"
     ]
    },
    {
     "name": "stderr",
     "output_type": "stream",
     "text": [
      "100%|██████████| 77/77 [03:45<00:00,  2.93s/it]\n"
     ]
    },
    {
     "name": "stdout",
     "output_type": "stream",
     "text": [
      "Error opening slide: cannot identify image file '/data3/yumi/TCGA_STAD/7bcad600-60af-441f-b110-5bce06c32593/TCGA-BR-6802-01Z-00-DX1.e171554c-05b5-4622-beb7-0abee31f5109.svs'\n",
      "Error opening slide: cannot identify image file '/data3/yumi/TCGA_STAD/5d8b48f9-f60e-4184-b608-01ece774b28e/TCGA-BR-6803-01Z-00-DX1.0704a32a-4a03-4c67-96ad-4888ea899c70.svs'\n",
      "Error opening slide: cannot identify image file '/data3/yumi/TCGA_STAD/b3c5331c-3919-4f8d-885a-f3f0cd641197/TCGA-BR-6852-01Z-00-DX1.9cdca0ad-9351-42c2-8082-3742de914369.svs'\n",
      "Error opening slide: cannot identify image file '/data3/yumi/TCGA_STAD/b0e28642-37f8-4413-b119-a085b294c0cc/TCGA-BR-7196-01Z-00-DX1.651ae8f6-2d2e-4520-9419-29b957e85d03.svs'\n",
      "Error opening slide: cannot identify image file '/data3/yumi/TCGA_STAD/7ae47ad1-00d1-4096-8d9c-b0babe740785/TCGA-BR-7197-01Z-00-DX1.a8ee53be-925d-4922-b670-74b09f405dd3.svs'\n",
      "Error opening slide: cannot identify image file '/data3/yumi/TCGA_STAD/a8f64498-2490-4561-a61d-4aaf6424461f/TCGA-BR-7703-01Z-00-DX1.405deaeb-de87-480f-b676-3657d92d1f68.svs'\n",
      "Error opening slide: cannot identify image file '/data3/yumi/TCGA_STAD/524d44f3-d097-4eca-8e63-302c5e88eae7/TCGA-BR-7704-01Z-00-DX1.51495bff-d6fd-448c-b428-aea6fd593086.svs'\n",
      "Error opening slide: cannot identify image file '/data3/yumi/TCGA_STAD/ef5ba663-73f1-4613-ae7b-ba17d9dcdb7d/TCGA-BR-7707-01Z-00-DX1.0aae4d1b-3345-4277-8820-c54e3df2e64f.svs'\n",
      "Error opening slide: cannot identify image file '/data3/yumi/TCGA_STAD/3f67f093-6e0c-4eab-b7d0-879292ced81a/TCGA-BR-7715-01Z-00-DX1.30aff8b3-bb1b-4aff-9f6b-2dde40122359.svs'\n"
     ]
    },
    {
     "name": "stderr",
     "output_type": "stream",
     "text": [
      "100%|██████████| 69/69 [01:34<00:00,  1.37s/it]\n"
     ]
    },
    {
     "name": "stdout",
     "output_type": "stream",
     "text": [
      "Error opening slide: cannot identify image file '/data3/yumi/TCGA_STAD/a0f775c0-7dab-4398-9924-8ea2ba05a24c/TCGA-BR-7717-01Z-00-DX1.caf061b5-c58d-4f32-a49c-383003fb4f57.svs'\n",
      "Error opening slide: cannot identify image file '/data3/yumi/TCGA_STAD/408fa86a-311e-44a6-9cc5-310b55c922b6/TCGA-BR-7722-01Z-00-DX1.06384343-d45c-4087-95c6-3b11304ec28e.svs'\n",
      "Error opening slide: cannot identify image file '/data3/yumi/TCGA_STAD/cd981120-ea26-4bd5-9f5a-8f6f03fe73da/TCGA-BR-7723-01Z-00-DX1.15f75a3f-93b8-423f-b5b5-bdb5ef378ed8.svs'\n",
      "Error opening slide: cannot identify image file '/data3/yumi/TCGA_STAD/3e6f0eb0-4037-4143-9f74-4da17e7452b5/TCGA-BR-7851-01Z-00-DX1.1f3a3b7d-0c1e-42af-9d5b-2a90b759eca9.svs'\n",
      "Error opening slide: cannot identify image file '/data3/yumi/TCGA_STAD/be33d343-678d-4305-a99f-b25851a1c404/TCGA-BR-7901-01Z-00-DX1.5c4f8dec-3428-4019-a9fb-00f07f9418e6.svs'\n",
      "Error opening slide: cannot identify image file '/data3/yumi/TCGA_STAD/810dcf1b-0336-4ee8-b1ac-76a248b37561/TCGA-BR-7957-01Z-00-DX1.870e24e0-b9cf-4baa-91f1-bd031d06da8e.svs'\n",
      "Error opening slide: cannot identify image file '/data3/yumi/TCGA_STAD/908a765c-90ed-4583-8ab3-9e8e1d8d88f3/TCGA-BR-7958-01Z-00-DX1.41f7c42e-6266-49d7-bdb6-66771033961f.svs'\n",
      "Error opening slide: cannot identify image file '/data3/yumi/TCGA_STAD/c0bde763-6580-4bec-a457-bf61acd40bf8/TCGA-BR-7959-01Z-00-DX1.fe1ffcd9-7252-4ac8-9ece-08b9cd78107c.svs'\n"
     ]
    },
    {
     "name": "stderr",
     "output_type": "stream",
     "text": [
      "100%|██████████| 65/65 [05:13<00:00,  4.83s/it]\n"
     ]
    },
    {
     "name": "stdout",
     "output_type": "stream",
     "text": [
      "Error opening slide: cannot identify image file '/data3/yumi/TCGA_STAD/a23ce130-bfcc-4525-9098-0caffa78f48a/TCGA-BR-8059-01Z-00-DX1.b877e3e3-cde8-4a00-b2dc-53db8bc25d53.svs'\n"
     ]
    },
    {
     "name": "stderr",
     "output_type": "stream",
     "text": [
      "100%|██████████| 48/48 [01:37<00:00,  2.03s/it]\n"
     ]
    },
    {
     "name": "stdout",
     "output_type": "stream",
     "text": [
      "Error opening slide: cannot identify image file '/data3/yumi/TCGA_STAD/b7a6917f-9a36-411d-b0ed-c0b21e2c5602/TCGA-BR-8077-01Z-00-DX1.8c68b0bb-ef3f-41e4-bd01-8a1dbb5ee8c1.svs'\n",
      "Error opening slide: cannot identify image file '/data3/yumi/TCGA_STAD/e82d5c58-efae-4bf7-af85-21c3162de830/TCGA-BR-8078-01Z-00-DX1.8e4a1099-d1c4-46b2-ae3b-5276b93d7003.svs'\n",
      "Error opening slide: cannot identify image file '/data3/yumi/TCGA_STAD/bcf05830-138f-43b4-b25a-89d9bd1f2022/TCGA-BR-8080-01Z-00-DX1.bd4c0cc9-5baa-4cd0-990b-1f2ce0a19a35.svs'\n"
     ]
    },
    {
     "name": "stderr",
     "output_type": "stream",
     "text": [
      "100%|██████████| 55/55 [02:13<00:00,  2.43s/it]\n"
     ]
    },
    {
     "name": "stdout",
     "output_type": "stream",
     "text": [
      "Error opening slide: cannot identify image file '/data3/yumi/TCGA_STAD/76cd8df3-c7a1-4aac-ae73-8669b5b4ee0e/TCGA-BR-8284-01Z-00-DX1.ea9f3dca-8390-4ae4-8ede-5ed776d1ad4d.svs'\n",
      "Error opening slide: cannot identify image file '/data3/yumi/TCGA_STAD/53395775-941f-4738-949b-63f17dafd171/TCGA-BR-8285-01Z-00-DX1.8d926a43-0e57-434a-8968-de8ccf749d2e.svs'\n",
      "Error opening slide: cannot identify image file '/data3/yumi/TCGA_STAD/e741384b-54cf-4478-8753-aaa7b5710d42/TCGA-BR-8286-01Z-00-DX1.4e8edc91-41c1-4b40-89b5-6f09636e4a3f.svs'\n"
     ]
    },
    {
     "name": "stderr",
     "output_type": "stream",
     "text": [
      "100%|██████████| 64/64 [00:55<00:00,  1.14it/s]\n"
     ]
    },
    {
     "name": "stdout",
     "output_type": "stream",
     "text": [
      "Error opening slide: cannot identify image file '/data3/yumi/TCGA_STAD/bf070b9a-bdee-4792-8501-329c16819dac/TCGA-BR-8291-01Z-00-DX1.a7e89a69-6d6d-4c43-b299-a618bd859170.svs'\n",
      "Error opening slide: cannot identify image file '/data3/yumi/TCGA_STAD/57b84330-d8c5-48de-a583-2cdf0afbcfae/TCGA-BR-8295-01Z-00-DX1.9c19a25e-dcf2-41b4-b726-2f09ae7c38f6.svs'\n",
      "Error opening slide: cannot identify image file '/data3/yumi/TCGA_STAD/c33be4b4-3bff-4e1a-8b47-a1982663ccd4/TCGA-BR-8296-01Z-00-DX1.0f4638b7-a38e-41f8-96e0-3e3a72cd2c10.svs'\n",
      "Error opening slide: cannot identify image file '/data3/yumi/TCGA_STAD/899cc358-09c7-4864-aeb5-9ec13312bf51/TCGA-BR-8297-01Z-00-DX1.881fd27f-e2c1-42fe-9b1a-afae4fcc4909.svs'\n",
      "Error opening slide: cannot identify image file '/data3/yumi/TCGA_STAD/e8e4955b-4e16-48a8-8057-4dc16fcf2fa3/TCGA-BR-8360-01Z-00-DX1.5250b193-e906-4279-b8cf-aac8f37183be.svs'\n",
      "Error opening slide: cannot identify image file '/data3/yumi/TCGA_STAD/7ba20ca1-67f6-4fe5-bb03-a906c3fd06ef/TCGA-BR-8361-01Z-00-DX1.1b4bb384-c462-453a-97b4-663dbba4a464.svs'\n"
     ]
    },
    {
     "name": "stderr",
     "output_type": "stream",
     "text": [
      "100%|██████████| 75/75 [05:51<00:00,  4.69s/it]\n"
     ]
    },
    {
     "name": "stdout",
     "output_type": "stream",
     "text": [
      "Error opening slide: cannot identify image file '/data3/yumi/TCGA_STAD/ca92ccfd-8272-4bf5-be5b-c4a264ee3786/TCGA-BR-8363-01Z-00-DX1.eeecad72-b281-4e28-be60-4542b4a275aa.svs'\n",
      "Error opening slide: cannot identify image file '/data3/yumi/TCGA_STAD/7c8ad807-fdf2-49a5-98ac-e677cb68371f/TCGA-BR-8364-01Z-00-DX1.245676db-6d78-4ae4-ae36-b4a70781a2f8.svs'\n",
      "Error opening slide: cannot identify image file '/data3/yumi/TCGA_STAD/a0bda3ef-0ef5-4502-9de9-9cd02e69422e/TCGA-BR-8365-01Z-00-DX1.0cf05858-a4a5-468e-aa62-d3e3e91eab4a.svs'\n",
      "Error opening slide: cannot identify image file '/data3/yumi/TCGA_STAD/e4db7158-031c-4cef-83f4-21d1482fab8a/TCGA-BR-8366-01Z-00-DX1.3cda0b57-d0a4-4877-a31c-c9f5f9007cc7.svs'\n",
      "Error opening slide: cannot identify image file '/data3/yumi/TCGA_STAD/fbaa5a9e-50b7-4de8-bfff-8fd481f6610a/TCGA-BR-8367-01Z-00-DX1.25d1e251-923d-46f5-9a6b-2f6207def599.svs'\n",
      "Error opening slide: cannot identify image file '/data3/yumi/TCGA_STAD/4eb6bf55-e1d9-448a-8cdc-8fb427fca909/TCGA-BR-8368-01Z-00-DX1.b1d32cec-36d6-4ee9-9455-bf0c797a271a.svs'\n"
     ]
    },
    {
     "name": "stderr",
     "output_type": "stream",
     "text": [
      "100%|██████████| 69/69 [03:16<00:00,  2.85s/it]\n"
     ]
    },
    {
     "name": "stdout",
     "output_type": "stream",
     "text": [
      "Error opening slide: cannot identify image file '/data3/yumi/TCGA_STAD/4b838cfc-f421-4f37-b172-eeed45092607/TCGA-BR-8370-01Z-00-DX1.9243927e-08a3-4d97-a8b8-bea795418039.svs'\n"
     ]
    },
    {
     "name": "stderr",
     "output_type": "stream",
     "text": [
      "100%|██████████| 78/78 [05:58<00:00,  4.60s/it]\n"
     ]
    },
    {
     "name": "stdout",
     "output_type": "stream",
     "text": [
      "Error opening slide: cannot identify image file '/data3/yumi/TCGA_STAD/bedca1bc-b562-4aaf-9e06-4a934c5df8c8/TCGA-BR-8372-01Z-00-DX1.d0f9d5fd-3d6e-4d86-ad63-fb3611d6af05.svs'\n",
      "Error opening slide: cannot identify image file '/data3/yumi/TCGA_STAD/66de2bf2-1b47-4561-b2de-e5adfee3a4e7/TCGA-BR-8373-01Z-00-DX1.d508dfad-2195-4aa4-bccc-58a450d07182.svs'\n",
      "Error opening slide: cannot identify image file '/data3/yumi/TCGA_STAD/83abb344-0ee0-47ff-9721-1d680dde20ae/TCGA-BR-8380-01Z-00-DX1.4692f9c9-a7f2-4274-be65-6990f02c1275.svs'\n",
      "Error opening slide: cannot identify image file '/data3/yumi/TCGA_STAD/d42d8c59-989d-4dd2-ad65-d0071849c5ea/TCGA-BR-8381-01Z-00-DX1.1a017141-7af0-4aba-8e07-18b9bd9ce6a3.svs'\n"
     ]
    },
    {
     "name": "stderr",
     "output_type": "stream",
     "text": [
      "100%|██████████| 60/60 [04:32<00:00,  4.53s/it]\n"
     ]
    },
    {
     "name": "stdout",
     "output_type": "stream",
     "text": [
      "Error opening slide: cannot identify image file '/data3/yumi/TCGA_STAD/b2ad4828-7581-44a2-a172-73e49120538b/TCGA-BR-8384-01Z-00-DX1.4f2655b6-39ef-4532-b8ed-b604ee5dada5.svs'\n"
     ]
    },
    {
     "name": "stderr",
     "output_type": "stream",
     "text": [
      "100%|██████████| 84/84 [04:44<00:00,  3.39s/it]\n"
     ]
    },
    {
     "name": "stdout",
     "output_type": "stream",
     "text": [
      "Error opening slide: cannot identify image file '/data3/yumi/TCGA_STAD/542f5547-6bda-48c8-bec6-81ae8fad9268/TCGA-BR-8484-01Z-00-DX1.5c897888-fcd2-4214-aa1e-f6a63ff1b755.svs'\n",
      "Error opening slide: cannot identify image file '/data3/yumi/TCGA_STAD/d28e16e2-5128-4846-9533-f9c20b46b0eb/TCGA-BR-8485-01Z-00-DX1.863bea72-3bd3-4f07-bbc9-e00d17ae39f7.svs'\n",
      "Error opening slide: cannot identify image file '/data3/yumi/TCGA_STAD/d9c4a28b-9709-4f37-802e-d7ad652533c6/TCGA-BR-8486-01Z-00-DX1.5a31224e-5c0e-49ca-ae65-d2edc8e4a0a2.svs'\n"
     ]
    },
    {
     "name": "stderr",
     "output_type": "stream",
     "text": [
      "100%|██████████| 80/80 [03:10<00:00,  2.38s/it]\n",
      "100%|██████████| 45/45 [02:23<00:00,  3.19s/it]\n"
     ]
    },
    {
     "name": "stdout",
     "output_type": "stream",
     "text": [
      "Error opening slide: cannot identify image file '/data3/yumi/TCGA_STAD/92d4b343-1f38-49d6-972b-c112c638dc5a/TCGA-BR-8589-01Z-00-DX1.5cd1a083-358a-4238-b3ca-1bfcdc084e80.svs'\n",
      "Error opening slide: cannot identify image file '/data3/yumi/TCGA_STAD/ed0bb73d-bf77-453d-98aa-0d4529293d09/TCGA-BR-8590-01Z-00-DX1.504afa1d-3a8f-423f-9edf-4df35720c05f.svs'\n",
      "Error opening slide: cannot identify image file '/data3/yumi/TCGA_STAD/4632389c-4011-487d-aaa8-311bf5d124a7/TCGA-BR-8591-01Z-00-DX1.c64ee000-b80d-46dd-b347-7aa8ce3b6113.svs'\n"
     ]
    },
    {
     "name": "stderr",
     "output_type": "stream",
     "text": [
      "100%|██████████| 61/61 [05:05<00:00,  5.01s/it]\n"
     ]
    },
    {
     "name": "stdout",
     "output_type": "stream",
     "text": [
      "Error opening slide: cannot identify image file '/data3/yumi/TCGA_STAD/5a197211-39b9-43e2-9888-a9218da30908/TCGA-BR-8676-01Z-00-DX1.297da9bc-fbfd-4277-84e1-297f177211db.svs'\n",
      "Error opening slide: cannot identify image file '/data3/yumi/TCGA_STAD/ad743326-da1d-48af-b8f4-c76504e48357/TCGA-BR-8677-01Z-00-DX1.7b2468f0-636f-4447-ae26-05cacf24e9c4.svs'\n",
      "Error opening slide: cannot identify image file '/data3/yumi/TCGA_STAD/c880a253-6728-4b63-b226-cfb4667c3855/TCGA-BR-8678-01Z-00-DX1.b6b8888f-c3e6-4466-a13b-8434ff5b3a30.svs'\n",
      "Error opening slide: cannot identify image file '/data3/yumi/TCGA_STAD/e9f14a91-53ac-40ae-9889-5894698a1c66/TCGA-BR-8679-01Z-00-DX1.2aa8a10d-4b62-479b-bea8-6c48428a888a.svs'\n",
      "Error opening slide: cannot identify image file '/data3/yumi/TCGA_STAD/642cf835-23cd-4377-8c8d-a96d7bb6f0e7/TCGA-BR-8680-01Z-00-DX1.a314ef6e-f3f9-4148-934e-dc432e3f39e8.svs'\n"
     ]
    },
    {
     "name": "stderr",
     "output_type": "stream",
     "text": [
      "100%|██████████| 67/67 [04:21<00:00,  3.90s/it]\n"
     ]
    },
    {
     "name": "stdout",
     "output_type": "stream",
     "text": [
      "Error opening slide: cannot identify image file '/data3/yumi/TCGA_STAD/fc25e34a-8942-490f-a9e5-36f8890d0473/TCGA-BR-8683-01Z-00-DX1.586c64f3-3f10-4729-99e2-38c6bd32e50d.svs'\n"
     ]
    },
    {
     "name": "stderr",
     "output_type": "stream",
     "text": [
      "100%|██████████| 75/75 [03:12<00:00,  2.56s/it]\n"
     ]
    },
    {
     "name": "stdout",
     "output_type": "stream",
     "text": [
      "Error opening slide: cannot identify image file '/data3/yumi/TCGA_STAD/9cd826ff-412b-4a06-b2b8-823d44929c1b/TCGA-BR-8687-01Z-00-DX1.95a2ccce-d477-42ca-9be1-eec03bc9f117.svs'\n",
      "Error opening slide: cannot identify image file '/data3/yumi/TCGA_STAD/dbefb2df-fb88-4862-a64b-05af3d4e0c8f/TCGA-BR-8690-01Z-00-DX1.e94544ed-62a3-41f3-95d5-f0ba9dfaa77f.svs'\n",
      "Error opening slide: cannot identify image file '/data3/yumi/TCGA_STAD/9ddceee1-3d55-453f-92aa-a944af49524a/TCGA-BR-A44T-01Z-00-DX1.46AA24E7-F2C9-418B-90AA-D6DA2896F5DE.svs'\n",
      "Error opening slide: cannot identify image file '/data3/yumi/TCGA_STAD/f93aeb1b-d85e-4598-80a5-5646269da802/TCGA-BR-A44U-01Z-00-DX1.8C665560-8CAC-4ABF-B2B2-17A76B3A9F14.svs'\n",
      "Error opening slide: cannot identify image file '/data3/yumi/TCGA_STAD/677fdf09-4917-4396-a0d8-4e6c19a0a006/TCGA-BR-A452-01Z-00-DX1.049385EF-FF29-4124-800D-A3FF525A85A0.svs'\n",
      "Error opening slide: cannot identify image file '/data3/yumi/TCGA_STAD/461c9a07-1b73-4212-b587-1e23cfa0c616/TCGA-BR-A453-01Z-00-DX1.23506C02-B7C6-426B-999F-6D9A75942281.svs'\n",
      "Error opening slide: cannot identify image file '/data3/yumi/TCGA_STAD/7c8bab81-b16e-4fe6-b421-3223455e4ff7/TCGA-BR-A4CQ-01Z-00-DX1.B63282A5-154D-441B-BF96-5BB26CB6D95E.svs'\n",
      "Error opening slide: cannot identify image file '/data3/yumi/TCGA_STAD/fa628e51-8120-4e9f-9914-7f546b5d897d/TCGA-BR-A4CR-01Z-00-DX1.9DC43CFC-D1DC-4851-A1C1-CE8E3A24B8A4.svs'\n"
     ]
    },
    {
     "name": "stderr",
     "output_type": "stream",
     "text": [
      "100%|██████████| 56/56 [01:38<00:00,  1.76s/it]\n"
     ]
    },
    {
     "name": "stdout",
     "output_type": "stream",
     "text": [
      "Error opening slide: cannot identify image file '/data3/yumi/TCGA_STAD/f7914e1c-1005-4f7e-aea6-4f60ca5f54a5/TCGA-BR-A4IU-01Z-00-DX1.4F3CD2B4-A19E-42C5-9ABD-850D80D47E4C.svs'\n",
      "Error opening slide: cannot identify image file '/data3/yumi/TCGA_STAD/9fe340e1-d409-4813-9b56-1ead82ec4970/TCGA-BR-A4IV-01Z-00-DX1.53BA2682-9B7A-4035-B811-4A3504158298.svs'\n",
      "Error opening slide: cannot identify image file '/data3/yumi/TCGA_STAD/5e9cb47a-5d79-4b8b-8a07-7cb864603dab/TCGA-BR-A4IY-01Z-00-DX1.84134CDC-D21F-43AD-82E3-1074487457F6.svs'\n",
      "Error opening slide: cannot identify image file '/data3/yumi/TCGA_STAD/e216ce04-82e5-4309-a4c0-58f437a53f0e/TCGA-BR-A4IZ-01Z-00-DX1.8D8B49FE-E60E-4DED-AC30-FD32605E7EAF.svs'\n"
     ]
    },
    {
     "name": "stderr",
     "output_type": "stream",
     "text": [
      "100%|██████████| 72/72 [02:53<00:00,  2.41s/it]\n"
     ]
    },
    {
     "name": "stdout",
     "output_type": "stream",
     "text": [
      "Error opening slide: cannot identify image file '/data3/yumi/TCGA_STAD/cd6175fa-0420-4353-984d-b3b4cc7acd4a/TCGA-BR-A4J2-01Z-00-DX1.37D92442-6B00-4171-81E3-73A7FC6BBEF4.svs'\n",
      "Error opening slide: cannot identify image file '/data3/yumi/TCGA_STAD/a7b75eb5-0072-4930-94be-47da317d2a5f/TCGA-BR-A4J4-01Z-00-DX1.06376906-1008-433B-BD90-B5697B0BBEE3.svs'\n",
      "Error opening slide: cannot identify image file '/data3/yumi/TCGA_STAD/b7d7dcc6-89b7-4f53-a797-fd450f9ba5fd/TCGA-BR-A4J5-01Z-00-DX1.C7D0D294-0280-415A-A8BB-ACB3177E5A0D.svs'\n",
      "Error opening slide: cannot identify image file '/data3/yumi/TCGA_STAD/ef69884e-d693-42b2-aaa8-ab0247d6e4b1/TCGA-BR-A4J6-01Z-00-DX1.59317146-9CAF-4F48-B9F6-D026B3603652.svs'\n",
      "Error opening slide: cannot identify image file '/data3/yumi/TCGA_STAD/a85dc26e-b1af-4362-824f-d70335e762b8/TCGA-BR-A4J7-01Z-00-DX1.95C74F68-FA18-446D-934D-296D9215D500.svs'\n",
      "Error opening slide: cannot identify image file '/data3/yumi/TCGA_STAD/b36b9c43-75bc-44a2-adad-1287b9676b9c/TCGA-BR-A4J8-01Z-00-DX1.40FF4C05-E9BF-412B-93D7-5E0CDCDAC4B1.svs'\n",
      "Error opening slide: cannot identify image file '/data3/yumi/TCGA_STAD/dad658ae-cd13-4671-ab52-cca89ca7ab3d/TCGA-BR-A4J9-01Z-00-DX1.BF65A4F7-AB59-4488-A7C1-152C89BEA917.svs'\n",
      "Error opening slide: cannot identify image file '/data3/yumi/TCGA_STAD/b9546d6e-1ecd-4e8a-bebe-e972235d667a/TCGA-BR-A4PD-01Z-00-DX1.F89DB0AC-DED8-4941-80A8-0C7975571C3C.svs'\n",
      "Error opening slide: cannot identify image file '/data3/yumi/TCGA_STAD/3dc00b29-2e7e-4cff-b81f-2c75e7a7bae1/TCGA-BR-A4PE-01Z-00-DX1.9C427636-8A7E-4D4E-9773-5C5D9D0C617C.svs'\n"
     ]
    },
    {
     "name": "stderr",
     "output_type": "stream",
     "text": [
      "100%|██████████| 83/83 [03:50<00:00,  2.78s/it]\n"
     ]
    },
    {
     "name": "stdout",
     "output_type": "stream",
     "text": [
      "Error opening slide: cannot identify image file '/data3/yumi/TCGA_STAD/6a459489-ab3b-4d42-aa98-75ed9a49ab93/TCGA-BR-A4QI-01Z-00-DX1.68312256-CBC5-4350-B4AD-A5990948BCB8.svs'\n"
     ]
    },
    {
     "name": "stderr",
     "output_type": "stream",
     "text": [
      "100%|██████████| 70/70 [02:17<00:00,  1.96s/it]\n"
     ]
    },
    {
     "name": "stdout",
     "output_type": "stream",
     "text": [
      "Error opening slide: cannot identify image file '/data3/yumi/TCGA_STAD/79ac01d8-e749-461f-b399-d487b7b2f330/TCGA-BR-A4QM-01Z-00-DX1.B6333EBE-31EF-4673-AB51-63439E631B8B.svs'\n",
      "Error opening slide: cannot identify image file '/data3/yumi/TCGA_STAD/5f172646-7666-49f9-b909-92b878625051/TCGA-CD-5798-01Z-00-DX1.e90ed362-86fc-4938-ac48-e98eef081342.svs'\n",
      "Error opening slide: cannot identify image file '/data3/yumi/TCGA_STAD/e5bf6b94-9a8c-4815-9261-0bc5eccc1bd2/TCGA-CD-5799-01Z-00-DX1.ce4c1cea-febc-4274-af53-e7853dcf8864.svs'\n",
      "Error opening slide: cannot identify image file '/data3/yumi/TCGA_STAD/ed0ea042-ed1e-4771-8477-ad12a821f17d/TCGA-CD-5800-01Z-00-DX1.a384bb17-10bd-46af-bf64-442b3c6c0c05.svs'\n",
      "Error opening slide: cannot identify image file '/data3/yumi/TCGA_STAD/b0d18ed0-2565-40d8-9cc8-24a1b0ddb850/TCGA-CD-5801-01Z-00-DX1.2afa1c89-0f17-4f75-9cf0-2cde4aca97d0.svs'\n",
      "Error opening slide: cannot identify image file '/data3/yumi/TCGA_STAD/b74ee961-f4b3-4057-ab8d-22c8d7f21028/TCGA-CD-5802-01Z-00-DX1.d188b861-af3f-4493-9f12-d3712055644b.svs'\n"
     ]
    },
    {
     "name": "stderr",
     "output_type": "stream",
     "text": [
      "100%|██████████| 58/58 [03:13<00:00,  3.34s/it]\n"
     ]
    },
    {
     "name": "stdout",
     "output_type": "stream",
     "text": [
      "Error opening slide: cannot identify image file '/data3/yumi/TCGA_STAD/c8b20f49-0251-442c-a412-31f9dd351012/TCGA-CD-5804-01Z-00-DX1.c5c22749-71dc-4812-84ba-2ef6f5a1463d.svs'\n",
      "Error opening slide: cannot identify image file '/data3/yumi/TCGA_STAD/9da107a0-6c39-4d64-ad51-92db98450ac2/TCGA-CD-5813-01Z-00-DX1.a9b5e164-af59-4834-99d2-a3fb0d430def.svs'\n"
     ]
    },
    {
     "name": "stderr",
     "output_type": "stream",
     "text": [
      "100%|██████████| 80/80 [01:51<00:00,  1.39s/it]\n"
     ]
    },
    {
     "name": "stdout",
     "output_type": "stream",
     "text": [
      "Error opening slide: cannot identify image file '/data3/yumi/TCGA_STAD/45e55e64-b086-47e4-beef-f6ffa9741e07/TCGA-CD-8526-01Z-00-DX1.499C498B-2D4E-4285-AD07-162788E87579.svs'\n",
      "Error opening slide: cannot identify image file '/data3/yumi/TCGA_STAD/7ff4b070-b23e-480e-9883-f76ad5cd0652/TCGA-CD-8527-01Z-00-DX1.B03F39C4-F5F3-419A-BC2C-437EC56EFEC2.svs'\n",
      "Error opening slide: cannot identify image file '/data3/yumi/TCGA_STAD/bd739ca3-0010-4a0f-ab60-2a33f6cf3dc8/TCGA-CD-8528-01Z-00-DX1.DE29BA05-ABCB-44B4-8CD9-D10EB3D71FBB.svs'\n",
      "Error opening slide: cannot identify image file '/data3/yumi/TCGA_STAD/fe2c456e-4be9-41ec-a983-1079f88fe6e8/TCGA-CD-8529-01Z-00-DX1.C3BA5482-04EB-4E1A-BFFA-5461489B5792.svs'\n",
      "Error opening slide: cannot identify image file '/data3/yumi/TCGA_STAD/65c82728-71b3-4d36-9858-b6f8d30130ca/TCGA-CD-8530-01Z-00-DX1.87CBC202-AE6C-408D-A428-DA9023670C36.svs'\n",
      "Error opening slide: cannot identify image file '/data3/yumi/TCGA_STAD/aebb2236-aa09-4e03-a1d7-0ad17846d496/TCGA-CD-8531-01Z-00-DX1.9F247853-F16C-4B5A-AB37-E781331EAB1B.svs'\n",
      "Error opening slide: cannot identify image file '/data3/yumi/TCGA_STAD/d4515563-9a80-46d3-85ea-48db794b69d9/TCGA-CD-8532-01Z-00-DX1.13868263-2259-4D74-8263-A79338BDE5A7.svs'\n",
      "Error opening slide: cannot identify image file '/data3/yumi/TCGA_STAD/c3272c41-45ac-4ff7-87d9-650d95c27d5e/TCGA-CD-8533-01Z-00-DX1.0C5B7F8C-3AA6-4085-98E3-EC24BE650937.svs'\n",
      "Error opening slide: cannot identify image file '/data3/yumi/TCGA_STAD/3f6cb266-8bb2-44f5-95b1-c1e7a4e7f642/TCGA-CD-8534-01Z-00-DX1.54F0CB0F-5A93-4382-A507-2DEFDBBE05F5.svs'\n"
     ]
    },
    {
     "name": "stderr",
     "output_type": "stream",
     "text": [
      "100%|██████████| 71/71 [01:37<00:00,  1.37s/it]\n"
     ]
    },
    {
     "name": "stdout",
     "output_type": "stream",
     "text": [
      "Error opening slide: cannot identify image file '/data3/yumi/TCGA_STAD/bbe3542c-3dc0-4365-b322-53346008f55f/TCGA-CD-8536-01Z-00-DX1.365BF36B-69D3-491A-8126-D08060950CF2.svs'\n",
      "Error opening slide: cannot identify image file '/data3/yumi/TCGA_STAD/89382e7f-894a-46e3-8d60-bba8db9a71f4/TCGA-CD-A486-01Z-00-DX1.6FFE81CA-9074-44BC-B619-85A73BA61A2D.svs'\n",
      "Error opening slide: cannot identify image file '/data3/yumi/TCGA_STAD/5bf9ed77-fd1c-4140-a3a9-f64890a3a65f/TCGA-CD-A487-01Z-00-DX1.A026BD2F-B721-4340-83D5-7AA39227C90F.svs'\n",
      "Error opening slide: cannot identify image file '/data3/yumi/TCGA_STAD/70ba26e2-aecd-4fc3-ac48-84ee441b6f70/TCGA-CD-A489-01Z-00-DX1.AB03DA27-6A86-41C7-9305-E5400E6C47AC.svs'\n",
      "Error opening slide: cannot identify image file '/data3/yumi/TCGA_STAD/a612fce7-6a48-40cf-97fa-9ac4b15bdaa6/TCGA-CD-A48A-01Z-00-DX1.C4416A6F-38A6-4743-990A-CE27923A2067.svs'\n"
     ]
    },
    {
     "name": "stderr",
     "output_type": "stream",
     "text": [
      "100%|██████████| 56/56 [01:25<00:00,  1.53s/it]\n"
     ]
    },
    {
     "name": "stdout",
     "output_type": "stream",
     "text": [
      "Error opening slide: cannot identify image file '/data3/yumi/TCGA_STAD/fef41200-9b46-42e1-a322-5660f1e48214/TCGA-CD-A4MG-01Z-00-DX1.CFC4618E-DFE9-4AAA-AD42-E1CC97374020.svs'\n",
      "Error opening slide: cannot identify image file '/data3/yumi/TCGA_STAD/7298a344-3480-47bb-9123-a75751cbfae6/TCGA-CD-A4MH-01Z-00-DX1.5594817C-6E68-4D29-8B77-5133C321FB75.svs'\n",
      "Error opening slide: cannot identify image file '/data3/yumi/TCGA_STAD/bcaf326e-748e-4cd9-8aeb-47659f0fa380/TCGA-CD-A4MI-01Z-00-DX1.67267177-498C-4835-A95A-FF8C2A9DDB97.svs'\n"
     ]
    },
    {
     "name": "stderr",
     "output_type": "stream",
     "text": [
      "100%|██████████| 88/88 [01:49<00:00,  1.24s/it]\n"
     ]
    },
    {
     "name": "stdout",
     "output_type": "stream",
     "text": [
      "Error opening slide: cannot identify image file '/data3/yumi/TCGA_STAD/cd789b66-2c1b-4511-b206-8b640378b015/TCGA-CG-4300-01Z-00-DX1.3ad2eb8f-a266-441f-93d4-c45ec9c553d9.svs'\n",
      "Error opening slide: cannot identify image file '/data3/yumi/TCGA_STAD/b5bed4a0-7467-4647-a750-d616e1e44b1a/TCGA-CG-4301-01Z-00-DX1.d3a38b46-9f9c-4ed4-a1c7-fc1e48263a53.svs'\n",
      "Error opening slide: cannot identify image file '/data3/yumi/TCGA_STAD/9ff047b2-01fa-416d-b5c0-0402478ee824/TCGA-CG-4304-01Z-00-DX1.65e18165-6009-4820-bed2-23c43baa2495.svs'\n",
      "Error opening slide: cannot identify image file '/data3/yumi/TCGA_STAD/c7f93843-2c88-4a72-a976-8ad8fb9944f3/TCGA-CG-4305-01Z-00-DX1.65167641-c270-4763-8bb8-cadedb17279d.svs'\n",
      "Error opening slide: cannot identify image file '/data3/yumi/TCGA_STAD/699509ba-3e38-4399-9c61-46f468520d73/TCGA-CG-4306-01Z-00-DX1.d4b89854-8529-4fb5-847a-ddb59b163727.svs'\n",
      "Error opening slide: cannot identify image file '/data3/yumi/TCGA_STAD/626be827-791d-417a-bf3c-119e09ea14dd/TCGA-CG-4436-01Z-00-DX1.55b155a9-066b-42cc-b834-b11c68256852.svs'\n",
      "Error opening slide: cannot identify image file '/data3/yumi/TCGA_STAD/681adcff-caa3-47a7-8f22-2bacd114d7eb/TCGA-CG-4438-01Z-00-DX1.3691c587-cadf-4523-a332-5a18f52c94b0.svs'\n",
      "Error opening slide: cannot identify image file '/data3/yumi/TCGA_STAD/56d44620-3ab2-443b-9b0d-b886461fb0a2/TCGA-CG-4440-01Z-00-DX1.297add71-f47a-47fa-b472-1a06cc9541ec.svs'\n",
      "Error opening slide: cannot identify image file '/data3/yumi/TCGA_STAD/be9012ce-aa69-405a-a3a9-674a153ef494/TCGA-CG-4441-01Z-00-DX1.0e2867aa-9b2d-4539-b218-a1a318361dfc.svs'\n",
      "Error opening slide: cannot identify image file '/data3/yumi/TCGA_STAD/3dc01dcc-ecef-412f-b129-ee56271f3ae8/TCGA-CG-4442-01Z-00-DX1.3273280a-8780-4e91-bb5e-97d174989183.svs'\n",
      "Error opening slide: cannot identify image file '/data3/yumi/TCGA_STAD/e0a7dc2f-5b92-4b84-84d9-c0abd680d370/TCGA-CG-4443-01Z-00-DX1.484defba-273b-4683-9c32-883f3da8ba5f.svs'\n",
      "Error opening slide: cannot identify image file '/data3/yumi/TCGA_STAD/53eee334-f97e-4124-9dd3-2f84c58ecf5b/TCGA-CG-4444-01Z-00-DX1.2f966933-a92c-4888-853c-2f8ca195120e.svs'\n"
     ]
    },
    {
     "name": "stderr",
     "output_type": "stream",
     "text": [
      "100%|██████████| 42/42 [00:42<00:00,  1.01s/it]\n"
     ]
    },
    {
     "name": "stdout",
     "output_type": "stream",
     "text": [
      "Error opening slide: cannot identify image file '/data3/yumi/TCGA_STAD/489a4eee-7f35-451f-b97f-30229c582ffd/TCGA-CG-4455-01Z-00-DX1.f695a661-323d-4aeb-a3db-72510719eeed.svs'\n"
     ]
    },
    {
     "name": "stderr",
     "output_type": "stream",
     "text": [
      "100%|██████████| 46/46 [00:54<00:00,  1.18s/it] \n"
     ]
    },
    {
     "name": "stdout",
     "output_type": "stream",
     "text": [
      "Error opening slide: cannot identify image file '/data3/yumi/TCGA_STAD/6e70e277-ce4c-43bd-b2e0-142a9d845694/TCGA-CG-4462-01Z-00-DX1.b83d328e-f315-493a-b625-1ca3136e5898.svs'\n",
      "Error opening slide: cannot identify image file '/data3/yumi/TCGA_STAD/93a32373-1cb8-4b30-a439-1a4c573caa28/TCGA-CG-4465-01Z-00-DX1.94a5e10c-2d21-4b3d-84d2-3b74d17ad088.svs'\n",
      "Error opening slide: cannot identify image file '/data3/yumi/TCGA_STAD/627339bb-6d01-42de-9397-d6962d087d8c/TCGA-CG-4466-01Z-00-DX1.cddbdb00-0856-471e-82f5-911e0416467e.svs'\n"
     ]
    },
    {
     "name": "stderr",
     "output_type": "stream",
     "text": [
      "100%|██████████| 60/60 [02:08<00:00,  2.15s/it]\n"
     ]
    },
    {
     "name": "stdout",
     "output_type": "stream",
     "text": [
      "Error opening slide: cannot identify image file '/data3/yumi/TCGA_STAD/a357673b-5d45-4cd0-b31e-43f1f57b482a/TCGA-CG-4472-01Z-00-DX1.776d5f0e-3a34-4de8-8d72-fd35ba59e235.svs'\n",
      "Error opening slide: cannot identify image file '/data3/yumi/TCGA_STAD/f466c4b5-df09-4694-a341-c4a20604bf0d/TCGA-CG-4474-01Z-00-DX1.b98d7365-75b1-4c90-80e0-fab8b354f411.svs'\n"
     ]
    },
    {
     "name": "stderr",
     "output_type": "stream",
     "text": [
      "100%|██████████| 52/52 [01:02<00:00,  1.21s/it]\n"
     ]
    },
    {
     "name": "stdout",
     "output_type": "stream",
     "text": [
      "Error opening slide: cannot identify image file '/data3/yumi/TCGA_STAD/acda3bcf-1dcf-42f0-bbc9-5241b4250d5b/TCGA-CG-4476-01Z-00-DX1.04f422f3-317a-41a9-af82-3ff43d823b6f.svs'\n"
     ]
    },
    {
     "name": "stderr",
     "output_type": "stream",
     "text": [
      "100%|██████████| 32/32 [01:35<00:00,  3.00s/it]\n"
     ]
    },
    {
     "name": "stdout",
     "output_type": "stream",
     "text": [
      "Error opening slide: cannot identify image file '/data3/yumi/TCGA_STAD/3ba723bd-deb7-454a-9869-1aaada661a20/TCGA-D7-5577-01Z-00-DX1.e9ca39a5-7c5c-4e43-ac89-8652f44b08bb.svs'\n",
      "Error opening slide: cannot identify image file '/data3/yumi/TCGA_STAD/6e009113-6c8c-4a1f-a275-3f83d6cab063/TCGA-D7-5577-01Z-00-DX2.FFE2889A-1E01-4D57-9B81-671465A1FB21.svs'\n",
      "Error opening slide: cannot identify image file '/data3/yumi/TCGA_STAD/f83a320b-24fe-4939-b189-1a6abaac075e/TCGA-D7-5578-01Z-00-DX1.8216cb00-cc28-4872-aef7-3b9c18e16117.svs'\n"
     ]
    },
    {
     "name": "stderr",
     "output_type": "stream",
     "text": [
      "100%|██████████| 86/86 [03:24<00:00,  2.38s/it]\n"
     ]
    },
    {
     "name": "stdout",
     "output_type": "stream",
     "text": [
      "Error opening slide: cannot identify image file '/data3/yumi/TCGA_STAD/7093470a-758b-4ff2-ac8b-7db409826494/TCGA-D7-5579-01Z-00-DX1.6b638a16-4bd1-4624-a57b-4088214e34a9.svs'\n",
      "Error opening slide: cannot identify image file '/data3/yumi/TCGA_STAD/f6790079-aff0-4d6a-8ca6-2db24131ddb3/TCGA-D7-5579-01Z-00-DX2.092BDD5E-3D0B-442C-ADE1-E684BC658D2E.svs'\n",
      "Error opening slide: cannot identify image file '/data3/yumi/TCGA_STAD/46f574e2-72b4-4b97-9814-7c879b7733e0/TCGA-D7-6518-01Z-00-DX1.227f4361-7393-4276-801a-a395617a15e4.svs'\n",
      "Error opening slide: cannot identify image file '/data3/yumi/TCGA_STAD/756ee621-615c-404d-bbb7-626d1c9e4869/TCGA-D7-6518-01Z-00-DX2.8CA8FC09-10AD-4931-861A-25CBCAE9D488.svs'\n",
      "Error opening slide: cannot identify image file '/data3/yumi/TCGA_STAD/5200656c-d7ba-4d5b-a0e2-db1d7a34f226/TCGA-D7-6519-01Z-00-DX1.5f7dcb29-030f-4011-affe-47dab4b9da03.svs'\n",
      "Error opening slide: cannot identify image file '/data3/yumi/TCGA_STAD/c703ac07-013f-4899-b5b8-172ce7f2c53d/TCGA-D7-6519-01Z-00-DX2.D42BA621-1099-4C4F-B691-B124F871A1CB.svs'\n"
     ]
    },
    {
     "name": "stderr",
     "output_type": "stream",
     "text": [
      "100%|██████████| 68/68 [04:44<00:00,  4.18s/it]\n",
      "100%|██████████| 83/83 [03:01<00:00,  2.18s/it]\n"
     ]
    },
    {
     "name": "stdout",
     "output_type": "stream",
     "text": [
      "Error opening slide: cannot identify image file '/data3/yumi/TCGA_STAD/b6484f4b-3a5e-41d7-9525-488a981b059e/TCGA-D7-6521-01Z-00-DX1.928f6bc8-8283-4195-9cd7-6d6eb72bb68b.svs'\n",
      "Error opening slide: cannot identify image file '/data3/yumi/TCGA_STAD/52f23eb0-e701-4b5f-b8d9-07a0ecfd45d4/TCGA-D7-6521-01Z-00-DX2.3742698F-7643-4A73-8524-A46EEFFCD761.svs'\n",
      "Error opening slide: cannot identify image file '/data3/yumi/TCGA_STAD/f55cf589-ab2a-44ed-b789-6529b872a352/TCGA-D7-6522-01Z-00-DX1.037aabb6-3546-44d4-991f-d7c5461b83f6.svs'\n",
      "Error opening slide: cannot identify image file '/data3/yumi/TCGA_STAD/7823697f-7cd6-4c99-b0f7-21d3d6d3ae22/TCGA-D7-6522-01Z-00-DX2.0CEA0837-BBD6-4C5F-87D6-DA93E1DEDDC3.svs'\n",
      "Error opening slide: cannot identify image file '/data3/yumi/TCGA_STAD/7b122f26-5dcf-4bae-94b2-2c960ce03d25/TCGA-D7-6524-01Z-00-DX1.ec1248f6-7d22-49c5-8300-673d25819e1d.svs'\n",
      "Error opening slide: cannot identify image file '/data3/yumi/TCGA_STAD/e6f20d24-e567-49a9-a21c-425ae1a067e6/TCGA-D7-6524-01Z-00-DX2.6E8242FF-FAF3-4CAA-9CB2-CE0BC1D518C9.svs'\n"
     ]
    },
    {
     "name": "stderr",
     "output_type": "stream",
     "text": [
      "100%|██████████| 83/83 [00:17<00:00,  4.67it/s] \n"
     ]
    },
    {
     "name": "stdout",
     "output_type": "stream",
     "text": [
      "Error opening slide: cannot identify image file '/data3/yumi/TCGA_STAD/f8a8c135-6c48-4b3b-b846-94c421a1021d/TCGA-D7-6525-01Z-00-DX2.1784F199-7F06-45BB-892A-EFB9009275EB.svs'\n",
      "Error opening slide: cannot identify image file '/data3/yumi/TCGA_STAD/609270ec-a5b2-4fae-80aa-45457174d9fa/TCGA-D7-6526-01Z-00-DX1.d954acfe-8efc-4ab7-965b-edc8c3afdfc6.svs'\n",
      "Error opening slide: cannot identify image file '/data3/yumi/TCGA_STAD/40c3a8bb-33cd-484f-ad88-cd241e5f9bd1/TCGA-D7-6526-01Z-00-DX2.8846E328-5343-4A95-A77D-3827F443A989.svs'\n",
      "Error opening slide: cannot identify image file '/data3/yumi/TCGA_STAD/c89ef83e-653b-4442-8416-d971ba85b952/TCGA-D7-6527-01Z-00-DX1.3149a5ed-2ed0-4ce7-912b-e67bb1c33e8f.svs'\n"
     ]
    },
    {
     "name": "stderr",
     "output_type": "stream",
     "text": [
      "100%|██████████| 89/89 [02:58<00:00,  2.01s/it]\n",
      "100%|██████████| 83/83 [00:03<00:00, 21.19it/s]\n"
     ]
    },
    {
     "name": "stdout",
     "output_type": "stream",
     "text": [
      "Error opening slide: cannot identify image file '/data3/yumi/TCGA_STAD/a56fdd58-1ce7-4203-ae98-57637cc4db22/TCGA-D7-6528-01Z-00-DX2.8159A49E-A9A0-4AA8-83AA-96E49D1DB8C4.svs'\n",
      "Error opening slide: cannot identify image file '/data3/yumi/TCGA_STAD/edd5d72f-2198-43e9-bf65-1122f5766787/TCGA-D7-6815-01Z-00-DX1.518E266F-0FF6-4768-85C6-19D77935A537.svs'\n",
      "Error opening slide: cannot identify image file '/data3/yumi/TCGA_STAD/da2ea1b8-83f3-4d28-985b-4a5e802e421f/TCGA-D7-6817-01Z-00-DX1.c1c7e7bb-2811-4034-8da8-af527377a711.svs'\n",
      "Error opening slide: cannot identify image file '/data3/yumi/TCGA_STAD/b5329873-fe32-4117-8d85-d5a7705b74ea/TCGA-D7-6817-01Z-00-DX2.725AB42B-1396-48E6-B37A-62955F72DD0F.svs'\n",
      "Error opening slide: cannot identify image file '/data3/yumi/TCGA_STAD/4ac0b5bf-0e41-4f26-824b-4686150fcd27/TCGA-D7-6818-01Z-00-DX1.c0709e0a-3e53-431b-a1e3-259ad84497f6.svs'\n"
     ]
    },
    {
     "name": "stderr",
     "output_type": "stream",
     "text": [
      "100%|██████████| 78/78 [02:45<00:00,  2.12s/it]\n"
     ]
    },
    {
     "name": "stdout",
     "output_type": "stream",
     "text": [
      "Error opening slide: cannot identify image file '/data3/yumi/TCGA_STAD/fc41251f-b91b-4c2a-921b-d844b732190f/TCGA-D7-6820-01Z-00-DX1.fe70ad91-42dc-470a-af2f-ba2e601084de.svs'\n",
      "Error opening slide: cannot identify image file '/data3/yumi/TCGA_STAD/7fa78a3c-d751-409d-bca5-7c725d1c7ca7/TCGA-D7-6820-01Z-00-DX2.8847C420-5C25-4716-B467-1CD2687F4484.svs'\n",
      "Error opening slide: cannot identify image file '/data3/yumi/TCGA_STAD/c8e4600e-060c-4234-8dd8-a36a5e827056/TCGA-D7-6822-01Z-00-DX1.b583410e-fb5b-4a57-8215-eb7eeee3645d.svs'\n",
      "Error opening slide: cannot identify image file '/data3/yumi/TCGA_STAD/c7cdbeff-956e-4f8d-984c-63f578307146/TCGA-D7-6822-01Z-00-DX2.4085F597-DD0C-4793-9586-CCC73382986B.svs'\n",
      "Error opening slide: cannot identify image file '/data3/yumi/TCGA_STAD/cf20aa2c-3a64-44d3-93b8-4f04be956828/TCGA-D7-8570-01Z-00-DX1.0B435CEF-B653-4D10-B2BD-6F9576C94389.svs'\n",
      "Error opening slide: cannot identify image file '/data3/yumi/TCGA_STAD/8d626a1d-b883-43a2-890d-1494f58b1000/TCGA-D7-8570-01Z-00-DX2.7447681C-7F88-43F4-BA7E-655DDA02ACDE.svs'\n",
      "Error opening slide: cannot identify image file '/data3/yumi/TCGA_STAD/9716e0b4-244f-4847-aa21-30655656c922/TCGA-D7-8572-01Z-00-DX1.E7F9367F-14C4-4561-934D-AE7A778CD13C.svs'\n",
      "Error opening slide: cannot identify image file '/data3/yumi/TCGA_STAD/b12a1e01-10d0-41a9-b37e-394a8963aeff/TCGA-D7-8572-01Z-00-DX2.13383FD3-B864-4578-8832-56EA1916FA86.svs'\n"
     ]
    },
    {
     "name": "stderr",
     "output_type": "stream",
     "text": [
      "100%|██████████| 74/74 [03:05<00:00,  2.51s/it]\n"
     ]
    },
    {
     "name": "stdout",
     "output_type": "stream",
     "text": [
      "Error opening slide: cannot identify image file '/data3/yumi/TCGA_STAD/b5dd8df2-f720-453c-96e0-26342a66967e/TCGA-D7-8573-01Z-00-DX2.703306C5-7D46-4E3C-833F-22D1FEF7C6F6.svs'\n",
      "Error opening slide: cannot identify image file '/data3/yumi/TCGA_STAD/4ce1bc39-74ce-4233-90e9-52718790f73b/TCGA-D7-8574-01Z-00-DX1.72155AB8-7B77-46D1-85B0-EACABCD25EF2.svs'\n",
      "Error opening slide: cannot identify image file '/data3/yumi/TCGA_STAD/db742750-ae73-428c-a6e7-c816791910aa/TCGA-D7-8574-01Z-00-DX2.0824C6C7-B086-4D9B-94B4-FC1A49805700.svs'\n"
     ]
    },
    {
     "name": "stderr",
     "output_type": "stream",
     "text": [
      "100%|██████████| 71/71 [02:42<00:00,  2.29s/it]\n"
     ]
    },
    {
     "name": "stdout",
     "output_type": "stream",
     "text": [
      "Error opening slide: cannot identify image file '/data3/yumi/TCGA_STAD/aff72a40-2513-4fae-9b97-f11f94789021/TCGA-D7-8575-01Z-00-DX2.7505FB70-2931-459B-B23A-4D24B080E383.svs'\n",
      "Error opening slide: cannot identify image file '/data3/yumi/TCGA_STAD/e4af0368-c1b9-4cd6-a983-6e15eebac406/TCGA-D7-8576-01Z-00-DX1.102C35FC-8CA4-471A-86E9-5C5526178928.svs'\n",
      "Error opening slide: cannot identify image file '/data3/yumi/TCGA_STAD/fa2a2088-4c28-40c6-9b45-30dde7f9037c/TCGA-D7-8576-01Z-00-DX2.2535E27E-C1AC-4008-B48F-083B6F53AF03.svs'\n"
     ]
    },
    {
     "name": "stderr",
     "output_type": "stream",
     "text": [
      "100%|██████████| 55/55 [01:40<00:00,  1.82s/it]\n",
      "100%|██████████| 73/73 [02:26<00:00,  2.01s/it]\n"
     ]
    },
    {
     "name": "stdout",
     "output_type": "stream",
     "text": [
      "Error opening slide: cannot identify image file '/data3/yumi/TCGA_STAD/927ea605-d28b-4626-a501-c66137c4b251/TCGA-D7-8579-01Z-00-DX1.BFA005CC-E2B4-4A36-9C84-5F51F0526856.svs'\n",
      "Error opening slide: cannot identify image file '/data3/yumi/TCGA_STAD/3f076cd5-0d9b-4c31-870b-30d47c81aa65/TCGA-D7-8579-01Z-00-DX2.9D40DCA2-2711-426C-B5DD-3D897975F4BF.svs'\n",
      "Error opening slide: cannot identify image file '/data3/yumi/TCGA_STAD/b07e6a13-afdd-4533-9a27-11ec15485bb2/TCGA-D7-A4YT-01Z-00-DX1.645AF39D-1B70-4C46-AB80-7B532994EE66.svs'\n",
      "Error opening slide: cannot identify image file '/data3/yumi/TCGA_STAD/53c3513f-808d-42c9-98bd-4a0a9fee1330/TCGA-D7-A4YU-01Z-00-DX1.42DF1586-BD02-4482-AEAF-8F2C1BBB1C20.svs'\n",
      "Error opening slide: cannot identify image file '/data3/yumi/TCGA_STAD/5e497df4-92a7-4d3e-bd84-3f4849406f0b/TCGA-D7-A4YV-01Z-00-DX1.55DFBF47-1A3B-428F-9AC4-8814F557FF1E.svs'\n",
      "Error opening slide: cannot identify image file '/data3/yumi/TCGA_STAD/b1432407-27b3-4efb-9b75-1a91ead1d22b/TCGA-D7-A4YX-01Z-00-DX1.54DE426E-7EC0-4FF4-919F-045E38B3C34E.svs'\n"
     ]
    },
    {
     "name": "stderr",
     "output_type": "stream",
     "text": [
      "100%|██████████| 70/70 [02:31<00:00,  2.17s/it]\n"
     ]
    },
    {
     "name": "stdout",
     "output_type": "stream",
     "text": [
      "Error opening slide: cannot identify image file '/data3/yumi/TCGA_STAD/c40949e9-30de-4cb6-8106-73079008c740/TCGA-D7-A4Z0-01Z-00-DX1.3D9BDA76-6884-4012-AB91-C374F32B58FB.svs'\n"
     ]
    },
    {
     "name": "stderr",
     "output_type": "stream",
     "text": [
      "100%|██████████| 69/69 [02:24<00:00,  2.10s/it]\n"
     ]
    },
    {
     "name": "stdout",
     "output_type": "stream",
     "text": [
      "Error opening slide: cannot identify image file '/data3/yumi/TCGA_STAD/5fdc5e5d-5f9f-4eba-bd64-b5a7062d2aa0/TCGA-D7-A6EV-01Z-00-DX1.98BA866B-19A6-4ECF-B51E-F811F5EFA8CC.svs'\n"
     ]
    },
    {
     "name": "stderr",
     "output_type": "stream",
     "text": [
      "100%|██████████| 73/73 [01:17<00:00,  1.06s/it]\n"
     ]
    },
    {
     "name": "stdout",
     "output_type": "stream",
     "text": [
      "Error opening slide: cannot identify image file '/data3/yumi/TCGA_STAD/f6efc882-53c4-4557-b783-3d605064ad80/TCGA-D7-A6EY-01Z-00-DX1.7E101F3B-8923-4554-AA48-C2493D0F46C0.svs'\n"
     ]
    },
    {
     "name": "stderr",
     "output_type": "stream",
     "text": [
      "100%|██████████| 83/83 [02:33<00:00,  1.85s/it]\n"
     ]
    },
    {
     "name": "stdout",
     "output_type": "stream",
     "text": [
      "Error opening slide: cannot identify image file '/data3/yumi/TCGA_STAD/8e9cec61-b6a1-4e74-9fab-6f74b6fa5be8/TCGA-D7-A6F2-01Z-00-DX1.31D8B3CD-7F63-474F-9B1B-E884C4CA9C61.svs'\n"
     ]
    },
    {
     "name": "stderr",
     "output_type": "stream",
     "text": [
      "100%|██████████| 77/77 [01:49<00:00,  1.42s/it]\n"
     ]
    },
    {
     "name": "stdout",
     "output_type": "stream",
     "text": [
      "Error opening slide: cannot identify image file '/data3/yumi/TCGA_STAD/f86e3d72-fbdc-43b5-87fc-6ec181a057e5/TCGA-D7-A748-01Z-00-DX1.CB8D633A-4CF0-4CA8-A8FF-7E8D3A3C7E20.svs'\n",
      "Error opening slide: cannot identify image file '/data3/yumi/TCGA_STAD/5f7ae3cb-36b3-49ff-ad8a-be9b5071c7b4/TCGA-D7-A74A-01Z-00-DX1.ED9A8AA2-7D69-462C-8544-587783F15DB5.svs'\n",
      "Error opening slide: cannot identify image file '/data3/yumi/TCGA_STAD/3f099ae9-5247-475e-8359-d5db1a882772/TCGA-D7-A74B-01Z-00-DX1.F7A13A7F-2812-43D9-A101-E1BFEA8B3454.svs'\n",
      "Error opening slide: cannot identify image file '/data3/yumi/TCGA_STAD/76cf178f-3122-4867-9a54-0f7681c744d9/TCGA-EQ-5647-01Z-00-DX1.e71da6e6-dd3d-4fb3-b1ba-ada25e6319bb.svs'\n",
      "Error opening slide: cannot identify image file '/data3/yumi/TCGA_STAD/85ca7480-8ccc-4f7f-8cbf-961085099bf1/TCGA-EQ-A4SO-01Z-00-DX1.9A41602A-AAAE-4522-9DAB-73CF25FB8756.svs'\n"
     ]
    },
    {
     "name": "stderr",
     "output_type": "stream",
     "text": [
      "100%|██████████| 48/48 [03:52<00:00,  4.84s/it]\n"
     ]
    },
    {
     "name": "stdout",
     "output_type": "stream",
     "text": [
      "Error opening slide: cannot identify image file '/data3/yumi/TCGA_STAD/b5cb5c49-8c08-423d-9f19-3f7086daefce/TCGA-F1-6874-01Z-00-DX1.3dfb0e10-3650-4c05-a27b-866fb6a304ff.svs'\n",
      "Error opening slide: cannot identify image file '/data3/yumi/TCGA_STAD/9b3cada4-aed4-41ee-99ad-5d2e7b8d8ce9/TCGA-F1-6875-01Z-00-DX1.F9E009FF-3213-4CCC-9075-C04B1E62A524.svs'\n",
      "Error opening slide: cannot identify image file '/data3/yumi/TCGA_STAD/92fbe437-7193-4134-b498-ceb37c839924/TCGA-F1-A448-01Z-00-DX1.FAEC839E-048D-4A33-9159-DECAEEA21777.svs'\n",
      "Error opening slide: cannot identify image file '/data3/yumi/TCGA_STAD/e21b6134-d51d-4de9-8362-47c0150b42a2/TCGA-F1-A72C-01Z-00-DX1.9E02D497-97BD-401C-AFA1-AC2CFE3E8592.svs'\n",
      "Error opening slide: cannot identify image file '/data3/yumi/TCGA_STAD/7fd2ed68-0ded-4007-9f65-c41329e72f6c/TCGA-FP-7735-01Z-00-DX1.97aac46a-898e-4c43-8c93-1496f40c43ed.svs'\n",
      "Error opening slide: cannot identify image file '/data3/yumi/TCGA_STAD/8447c1ee-ef5e-497b-a187-bae7e3e9a077/TCGA-FP-7829-01Z-00-DX1.22253191-e487-46f6-b743-d7c44ad01f4c.svs'\n"
     ]
    },
    {
     "name": "stderr",
     "output_type": "stream",
     "text": [
      "100%|██████████| 40/40 [00:46<00:00,  1.17s/it]\n"
     ]
    },
    {
     "name": "stdout",
     "output_type": "stream",
     "text": [
      "Error opening slide: cannot identify image file '/data3/yumi/TCGA_STAD/c3255542-5a94-464e-8a2f-0982803b6bb3/TCGA-FP-7998-01Z-00-DX1.9f24585a-d609-4094-8170-b0f483606a18.svs'\n",
      "Error opening slide: cannot identify image file '/data3/yumi/TCGA_STAD/b769f108-04cf-48a1-ae38-14084137fd45/TCGA-FP-8099-01Z-00-DX1.82948449-f540-49f2-a99a-d66da5eaaf4e.svs'\n"
     ]
    },
    {
     "name": "stderr",
     "output_type": "stream",
     "text": [
      "100%|██████████| 33/33 [01:02<00:00,  1.88s/it]\n"
     ]
    },
    {
     "name": "stdout",
     "output_type": "stream",
     "text": [
      "Error opening slide: cannot identify image file '/data3/yumi/TCGA_STAD/70543e0d-6ae8-41b3-81b5-b58d21695cc2/TCGA-FP-8210-01Z-00-DX1.0ef0fd3f-5968-48ce-9e69-eaae83c29004.svs'\n",
      "Error opening slide: cannot identify image file '/data3/yumi/TCGA_STAD/5b6a6823-2348-4176-86ec-ca9334155e05/TCGA-FP-8211-01Z-00-DX1.3906261e-914c-4191-802c-f27f64840211.svs'\n"
     ]
    },
    {
     "name": "stderr",
     "output_type": "stream",
     "text": [
      "100%|██████████| 42/42 [01:09<00:00,  1.66s/it]\n",
      "100%|██████████| 83/83 [04:40<00:00,  3.38s/it]\n"
     ]
    },
    {
     "name": "stdout",
     "output_type": "stream",
     "text": [
      "Error opening slide: cannot identify image file '/data3/yumi/TCGA_STAD/c2dd4e6d-33ff-40ee-a3f2-f0d2c3f51a3c/TCGA-FP-A4BF-01Z-00-DX1.D4E8128B-A783-45ED-BF0E-93650F9483EC.svs'\n",
      "Error opening slide: cannot identify image file '/data3/yumi/TCGA_STAD/4b028967-6fa0-425a-8105-9eca864ea71f/TCGA-FP-A8CX-01Z-00-DX1.AD598CBF-2E0F-4285-A2BB-E9CE0EE1873B.svs'\n",
      "Error opening slide: cannot identify image file '/data3/yumi/TCGA_STAD/f388b462-f5d7-4923-93dd-03a0555e4c2b/TCGA-FP-A9TM-01Z-00-DX1.1BD7C378-9FDD-46F0-B546-BB255079AFAA.svs'\n",
      "Error opening slide: cannot identify image file '/data3/yumi/TCGA_STAD/6fc5d841-a1b1-4859-a922-1c573ad58609/TCGA-HF-7131-01Z-00-DX1.8A90BB8F-039E-41ED-9BB0-286F5CC9F6E4.svs'\n",
      "Error opening slide: cannot identify image file '/data3/yumi/TCGA_STAD/5a0dee47-05fa-4375-8aaf-520198fbfd7a/TCGA-HF-7132-01Z-00-DX1.AD1CA78F-2AAA-41F2-93CE-6DF2AD60ED1A.svs'\n",
      "Error opening slide: cannot identify image file '/data3/yumi/TCGA_STAD/e6f86730-cd7f-41a3-b175-4dabda38ed58/TCGA-HF-7133-01Z-00-DX1.4F84AAFA-47F2-46AB-9F85-1129D441A9C0.svs'\n",
      "Error opening slide: cannot identify image file '/data3/yumi/TCGA_STAD/d1a46557-59d4-405b-ad57-292da8aa1abd/TCGA-HF-7134-01Z-00-DX1.A84E2A6E-05F4-4A4B-8F64-9B9D1B33838E.svs'\n",
      "Error opening slide: cannot identify image file '/data3/yumi/TCGA_STAD/b8c4263f-b2ae-4170-8fd6-1d4ff3fcd66b/TCGA-HF-7136-01Z-00-DX1.F8C07BE3-06C7-4202-97C6-10B81D322A16.svs'\n",
      "Error opening slide: cannot identify image file '/data3/yumi/TCGA_STAD/8e468b86-a646-4f50-96ae-673e178d0daa/TCGA-HF-A5NB-01Z-00-DX1.CA67064B-3281-4144-A2A2-E0BC43E6F8D6.svs'\n",
      "Error opening slide: cannot identify image file '/data3/yumi/TCGA_STAD/7f5fcd82-3156-4657-908e-489cfd91fe8a/TCGA-HJ-7597-01Z-00-DX1.4218e9a0-3ef1-4073-8336-1fe81c0bce90.svs'\n",
      "Error opening slide: cannot identify image file '/data3/yumi/TCGA_STAD/854ed457-516c-4b99-af48-c59f5e805cb5/TCGA-HU-8238-01Z-00-DX1.AF6FFDFA-85F6-4E1A-AE1B-84A8BF8F12D2.svs'\n",
      "Error opening slide: cannot identify image file '/data3/yumi/TCGA_STAD/c4d5326b-8abb-46d2-b7e3-2ba1543e6e8b/TCGA-HU-8244-01Z-00-DX1.EF15C805-A823-46EA-B737-2EC4A8C5C278.svs'\n"
     ]
    },
    {
     "name": "stderr",
     "output_type": "stream",
     "text": [
      "100%|██████████| 73/73 [00:36<00:00,  2.00it/s]\n"
     ]
    },
    {
     "name": "stdout",
     "output_type": "stream",
     "text": [
      "Error opening slide: cannot identify image file '/data3/yumi/TCGA_STAD/ccf07fee-8804-4f81-802b-8d4f8ae90719/TCGA-HU-8249-01Z-00-DX1.6579F0D5-6A05-49A3-9B30-68059599EADE.svs'\n"
     ]
    },
    {
     "name": "stderr",
     "output_type": "stream",
     "text": [
      "100%|██████████| 59/59 [00:54<00:00,  1.08it/s]\n"
     ]
    },
    {
     "name": "stdout",
     "output_type": "stream",
     "text": [
      "Error opening slide: cannot identify image file '/data3/yumi/TCGA_STAD/c30a630a-3eff-430f-a16e-d92a1a1487e6/TCGA-HU-8608-01Z-00-DX1.F40770A6-9384-4381-B6AD-2C488915E73F.svs'\n"
     ]
    },
    {
     "name": "stderr",
     "output_type": "stream",
     "text": [
      "100%|██████████| 29/29 [00:05<00:00,  5.68it/s]\n"
     ]
    },
    {
     "name": "stdout",
     "output_type": "stream",
     "text": [
      "Error opening slide: cannot identify image file '/data3/yumi/TCGA_STAD/9c171a20-a670-4b3a-a79b-b6de7cc0c28b/TCGA-HU-A4G2-01Z-00-DX1.3465DA31-CB55-4D7D-9897-34D2AD5497CB.svs'\n",
      "Error opening slide: cannot identify image file '/data3/yumi/TCGA_STAD/ae049984-22af-4787-a8c2-a34198bd5f12/TCGA-HU-A4G3-01Z-00-DX1.5D4EB0C7-8E14-41DC-AFF7-ECD43A89139B.svs'\n"
     ]
    },
    {
     "name": "stderr",
     "output_type": "stream",
     "text": [
      "100%|██████████| 88/88 [01:13<00:00,  1.20it/s]\n",
      "100%|██████████| 54/54 [00:27<00:00,  1.99it/s]\n"
     ]
    },
    {
     "name": "stdout",
     "output_type": "stream",
     "text": [
      "Error opening slide: cannot identify image file '/data3/yumi/TCGA_STAD/582acd1b-b0e3-4672-85ed-33d5b795cc7f/TCGA-HU-A4G9-01Z-00-DX1.806F4C5A-D2F8-4457-B6F9-99B67105C676.svs'\n"
     ]
    },
    {
     "name": "stderr",
     "output_type": "stream",
     "text": [
      "100%|██████████| 33/33 [00:05<00:00,  6.03it/s]\n"
     ]
    },
    {
     "name": "stdout",
     "output_type": "stream",
     "text": [
      "Error opening slide: cannot identify image file '/data3/yumi/TCGA_STAD/e2513cca-f0a1-4e05-a0e0-c8ad708318de/TCGA-HU-A4GD-01Z-00-DX1.7CF261C2-D7FE-4D42-BC4B-BC86B7A802DB.svs'\n",
      "Error opening slide: cannot identify image file '/data3/yumi/TCGA_STAD/857eeda6-8e43-4fce-b44e-89f274113c59/TCGA-HU-A4GF-01Z-00-DX1.2754343C-7875-42C4-B4E3-D2B8666B1E47.svs'\n",
      "Error opening slide: cannot identify image file '/data3/yumi/TCGA_STAD/57fd0bd9-6d59-4bfc-bec9-8e10ec969df7/TCGA-HU-A4GH-01Z-00-DX1.0BACDE08-5613-428E-BDBE-F2D0D80FD0E4.svs'\n",
      "Error opening slide: cannot identify image file '/data3/yumi/TCGA_STAD/c69d1414-55ba-42ce-8c50-01de863e26c1/TCGA-HU-A4GJ-01Z-00-DX1.31E71066-5B7B-4866-97A0-0B7B03E6B4B6.svs'\n"
     ]
    },
    {
     "name": "stderr",
     "output_type": "stream",
     "text": [
      "100%|██████████| 42/42 [00:06<00:00,  6.99it/s]\n",
      "100%|██████████| 36/36 [00:09<00:00,  3.65it/s]\n"
     ]
    },
    {
     "name": "stdout",
     "output_type": "stream",
     "text": [
      "Error opening slide: cannot identify image file '/data3/yumi/TCGA_STAD/6a5f6714-bb62-4cea-8712-4b9f5d7eb806/TCGA-HU-A4GQ-01Z-00-DX1.699A0E57-FE02-4329-9826-3EFC2DECD408.svs'\n",
      "Error opening slide: cannot identify image file '/data3/yumi/TCGA_STAD/c959fac2-2bd8-485d-82ef-21416b1b5b22/TCGA-HU-A4GT-01Z-00-DX1.F4DD9EAC-8CB8-430A-BF7B-1D43C17FEF61.svs'\n",
      "Error opening slide: cannot identify image file '/data3/yumi/TCGA_STAD/90c5c723-7827-420f-9476-e4a0fcd1df11/TCGA-HU-A4GU-01Z-00-DX1.3D4767B4-DDCB-4D80-A810-144427E73EDE.svs'\n",
      "Error opening slide: cannot identify image file '/data3/yumi/TCGA_STAD/f17e0dfd-7606-415b-be28-498261686a63/TCGA-HU-A4GX-01Z-00-DX1.0F1A15D3-2C6A-4F16-8D9D-CF44179AB161.svs'\n",
      "Error opening slide: cannot identify image file '/data3/yumi/TCGA_STAD/94d0cb85-e630-4392-ae3e-5d6f2fb983b3/TCGA-HU-A4GY-01Z-00-DX1.79A487FD-BA95-4051-8E4B-BE1502946F4F.svs'\n",
      "Error opening slide: cannot identify image file '/data3/yumi/TCGA_STAD/540851b3-fb1d-428d-b90b-b7ff9b04e0a5/TCGA-HU-A4H0-01Z-00-DX1.85BE7D40-ECB6-4450-B7B0-C65BE5495784.svs'\n",
      "Error opening slide: cannot identify image file '/data3/yumi/TCGA_STAD/597b542d-53b2-4c76-b7ed-d4a677b6f5d3/TCGA-HU-A4H5-01Z-00-DX1.3A56E0D3-7813-4708-9A69-37D141533C2A.svs'\n",
      "Error opening slide: cannot identify image file '/data3/yumi/TCGA_STAD/4047d000-9252-425c-a28b-015a8324b3af/TCGA-HU-A4H6-01Z-00-DX1.0DD51B66-A983-44F4-9753-03ED9C606E77.svs'\n",
      "Error opening slide: cannot identify image file '/data3/yumi/TCGA_STAD/4416a02b-9a10-4369-a8e6-50c091a0fad6/TCGA-HU-A4H8-01Z-00-DX1.8FEBBDCF-4E6A-4D90-8DEA-5E1D031DD50A.svs'\n"
     ]
    },
    {
     "name": "stderr",
     "output_type": "stream",
     "text": [
      "100%|██████████| 27/27 [00:03<00:00,  8.63it/s]\n"
     ]
    },
    {
     "name": "stdout",
     "output_type": "stream",
     "text": [
      "Error opening slide: cannot identify image file '/data3/yumi/TCGA_STAD/46e82023-8d17-40c7-be0e-5f6ccc5734c4/TCGA-HU-A4HD-01Z-00-DX1.A6BA5209-C593-4B87-ADD0-65E05072294B.svs'\n",
      "Error opening slide: cannot identify image file '/data3/yumi/TCGA_STAD/c027f30f-fd67-4e0f-98a4-6fcdc5f624ab/TCGA-IN-7806-01Z-00-DX1.2e7288fd-e149-4d4f-9d63-dd2e2f91d4f8.svs'\n"
     ]
    },
    {
     "name": "stderr",
     "output_type": "stream",
     "text": [
      "100%|██████████| 85/85 [06:57<00:00,  4.91s/it]\n"
     ]
    },
    {
     "name": "stdout",
     "output_type": "stream",
     "text": [
      "Error opening slide: cannot identify image file '/data3/yumi/TCGA_STAD/f47a1be9-35e5-42f3-959b-084124f7a04b/TCGA-IN-8663-01Z-00-DX1.39719DC6-1441-4E0F-BB5E-656CCDAC13D5.svs'\n"
     ]
    },
    {
     "name": "stderr",
     "output_type": "stream",
     "text": [
      "100%|██████████| 45/45 [01:25<00:00,  1.90s/it]\n",
      "100%|██████████| 88/88 [06:57<00:00,  4.75s/it]\n",
      "100%|██████████| 88/88 [07:54<00:00,  5.40s/it]\n",
      "100%|██████████| 67/67 [04:07<00:00,  3.70s/it]\n",
      "100%|██████████| 57/57 [00:16<00:00,  3.54it/s]\n"
     ]
    },
    {
     "name": "stdout",
     "output_type": "stream",
     "text": [
      "Error opening slide: cannot identify image file '/data3/yumi/TCGA_STAD/419f246a-327c-4188-9eb6-2ad698ff83b3/TCGA-KB-A93J-01Z-00-DX1.CF87A80C-609E-4064-9C59-BD2A211A886A.svs'\n",
      "Error opening slide: cannot identify image file '/data3/yumi/TCGA_STAD/6df61438-b357-4fae-b595-b0f929322f24/TCGA-MX-A5UG-01Z-00-DX1.DEA1C553-B7E9-4663-A02B-51C31411C7C3.svs'\n",
      "Error opening slide: cannot identify image file '/data3/yumi/TCGA_STAD/ef534c87-0633-4f70-a3c8-eca13e23bad5/TCGA-MX-A5UJ-01Z-00-DX1.936F7641-740B-4246-BB2D-C8443501CF50.svs'\n",
      "Error opening slide: cannot identify image file '/data3/yumi/TCGA_STAD/dc7c0b48-eba0-4815-8064-a92d6b6226e7/TCGA-MX-A663-01Z-00-DX1.EBDF2119-63E3-4DA5-B661-440A461904BE.svs'\n"
     ]
    },
    {
     "name": "stderr",
     "output_type": "stream",
     "text": [
      "100%|██████████| 36/36 [00:10<00:00,  3.47it/s]\n"
     ]
    },
    {
     "name": "stdout",
     "output_type": "stream",
     "text": [
      "Error opening slide: cannot identify image file '/data3/yumi/TCGA_STAD/727dcdc2-c68a-456d-9036-e3902473b6b2/TCGA-R5-A7O7-01Z-00-DX1.89156AC0-4A5F-481D-9D5A-76B3751585F7.svs'\n",
      "Error opening slide: cannot identify image file '/data3/yumi/TCGA_STAD/e30659d3-2db8-4720-9d05-e176093d1a47/TCGA-R5-A7ZE-01Z-00-DX1.0E7DCE3F-E2A1-4F98-BEBF-E08DF2BF2FF3.svs'\n",
      "Error opening slide: cannot identify image file '/data3/yumi/TCGA_STAD/f72f4990-a03b-409c-83f3-396fc882fdbd/TCGA-R5-A7ZF-01Z-00-DX1.F08C5EC7-7292-4FD6-92FF-73192329C2B5.svs'\n"
     ]
    },
    {
     "name": "stderr",
     "output_type": "stream",
     "text": [
      "100%|██████████| 63/63 [00:38<00:00,  1.63it/s]\n",
      "100%|██████████| 60/60 [00:10<00:00,  5.95it/s]\n"
     ]
    },
    {
     "name": "stdout",
     "output_type": "stream",
     "text": [
      "Error opening slide: cannot identify image file '/data3/yumi/TCGA_STAD/dc43be17-5009-40ab-8a2d-895143d5af48/TCGA-R5-A804-01Z-00-DX1.D1DDC2EE-C3ED-4502-B1C1-71D5585E9470.svs'\n",
      "Error opening slide: cannot identify image file '/data3/yumi/TCGA_STAD/d92539b4-e010-444a-8271-bc1f3007932a/TCGA-R5-A805-01Z-00-DX1.855298CD-DC64-4423-ABB1-D7AC92BF5177.svs'\n",
      "Error opening slide: cannot identify image file '/data3/yumi/TCGA_STAD/90c5f0ae-bfc3-4ed3-8003-f32fc22c8c91/TCGA-RD-A7BS-01Z-00-DX1.F236D43D-0072-47C7-A4D5-6928932D4C9F.svs'\n",
      "Error opening slide: cannot identify image file '/data3/yumi/TCGA_STAD/87e029d4-5a09-4e0e-af0a-1be8b68a5693/TCGA-RD-A7BT-01Z-00-DX1.1B0308B0-27EA-43A7-BE89-C5F7831AF243.svs'\n",
      "Error opening slide: cannot identify image file '/data3/yumi/TCGA_STAD/ef76b6f5-d9ea-459e-ad63-ee2776e13634/TCGA-RD-A7BW-01Z-00-DX1.C8C51F10-BD65-44AC-BC95-4ED8D017D908.svs'\n"
     ]
    },
    {
     "name": "stderr",
     "output_type": "stream",
     "text": [
      "100%|██████████| 65/65 [00:47<00:00,  1.37it/s]\n"
     ]
    },
    {
     "name": "stdout",
     "output_type": "stream",
     "text": [
      "Error opening slide: cannot identify image file '/data3/yumi/TCGA_STAD/df632acb-6ecc-462a-b13a-62a20569b928/TCGA-RD-A8MV-01Z-00-DX1.E658A7D1-8A6A-4BE9-9C89-07B60E9F8983.svs'\n",
      "Error opening slide: cannot identify image file '/data3/yumi/TCGA_STAD/dad1dd79-028b-4005-bcd1-0e0ae7fcdc6b/TCGA-RD-A8MW-01Z-00-DX1.30EE6F24-3983-4793-9EF6-059B9AF53F24.svs'\n",
      "Error opening slide: cannot identify image file '/data3/yumi/TCGA_STAD/4d1e633a-b0fa-4b1d-a13c-0178b3e3688b/TCGA-RD-A8N0-01Z-00-DX1.4C91480F-E7D8-4E37-B528-F5E272F2F8CA.svs'\n",
      "Error opening slide: cannot identify image file '/data3/yumi/TCGA_STAD/5fd1509d-a5b3-4e93-88ea-76bb5148b768/TCGA-RD-A8N1-01Z-00-DX1.A5D023FB-CBF8-477C-B5D1-8281BAA25E2E.svs'\n",
      "Error opening slide: cannot identify image file '/data3/yumi/TCGA_STAD/cb770af8-417d-4bfe-b410-be5e59302656/TCGA-RD-A8N2-01Z-00-DX1.A56448E6-1C5E-4758-AC2E-4591A406116C.svs'\n",
      "Error opening slide: cannot identify image file '/data3/yumi/TCGA_STAD/9cecb7f2-8aab-471f-964e-bfe3c0d1a123/TCGA-RD-A8N4-01Z-00-DX1.03EBE393-9145-4F25-AA4C-E637B6A2A111.svs'\n"
     ]
    },
    {
     "name": "stderr",
     "output_type": "stream",
     "text": [
      "100%|██████████| 79/79 [02:59<00:00,  2.27s/it]\n"
     ]
    },
    {
     "name": "stdout",
     "output_type": "stream",
     "text": [
      "Error opening slide: cannot identify image file '/data3/yumi/TCGA_STAD/3dca7a42-e058-4904-886c-c2ef393035f7/TCGA-RD-A8N6-01Z-00-DX1.E51FADB4-1A2E-415D-9C91-F81705311147.svs'\n",
      "Error opening slide: cannot identify image file '/data3/yumi/TCGA_STAD/8728fbe6-3b2e-4a61-bdff-7a4226a5d7f9/TCGA-RD-A8N9-01Z-00-DX1.70899C63-3C5D-4993-8215-F7452ADE134D.svs'\n"
     ]
    },
    {
     "name": "stderr",
     "output_type": "stream",
     "text": [
      "100%|██████████| 69/69 [00:42<00:00,  1.64it/s]\n"
     ]
    },
    {
     "name": "stdout",
     "output_type": "stream",
     "text": [
      "Error opening slide: cannot identify image file '/data3/yumi/TCGA_STAD/45f36536-86ab-48d1-b5a8-b7a9bbd3f861/TCGA-SW-A7EA-01Z-00-DX1.C5E1BE0E-0A25-4480-A3AC-DB2ED7471A4E.svs'\n",
      "Error opening slide: cannot identify image file '/data3/yumi/TCGA_STAD/926cca14-be59-4f6f-ae85-28358843b99f/TCGA-SW-A7EB-01Z-00-DX1.E9DE72F8-706D-43E2-A67E-7EDD39A509EB.svs'\n",
      "Error opening slide: cannot identify image file '/data3/yumi/TCGA_STAD/e962e971-71ca-466c-bab0-6937032687ef/TCGA-VQ-A8DL-01Z-00-DX1.E720AE39-654E-4587-A294-2ED2BCE6F043.svs'\n",
      "Error opening slide: cannot identify image file '/data3/yumi/TCGA_STAD/fbc07c34-7fa1-4e3e-9ec1-e7fc0f2e14b0/TCGA-VQ-A8DT-01Z-00-DX1.C87953F7-A303-410E-9554-2022A79AF6CC.svs'\n",
      "Error opening slide: cannot identify image file '/data3/yumi/TCGA_STAD/67924f89-e899-44c3-94ec-f3693c50b113/TCGA-VQ-A8DU-01Z-00-DX1.12DD8768-1315-472E-801D-F44A418BEA41.svs'\n",
      "Error opening slide: cannot identify image file '/data3/yumi/TCGA_STAD/dc1fe4fe-8378-4c39-bf8a-463a82c34960/TCGA-VQ-A8DV-01Z-00-DX1.DB668CCB-E5C9-49D8-9F0B-2548AA1C3E69.svs'\n",
      "Error opening slide: cannot identify image file '/data3/yumi/TCGA_STAD/dcfbcef5-d2f8-462c-80b2-ab38fb20a29f/TCGA-VQ-A8DZ-01Z-00-DX1.3C4CB10D-8C8B-4828-B7D4-7058BDF4D39F.svs'\n",
      "Error opening slide: cannot identify image file '/data3/yumi/TCGA_STAD/b1756543-fabc-483a-814e-e117373146d5/TCGA-VQ-A8E0-01Z-00-DX1.81F45F4C-5D39-4C76-9888-064D53C9A80D.svs'\n",
      "Error opening slide: cannot identify image file '/data3/yumi/TCGA_STAD/f4619b3e-3536-4cc3-9fba-e39ae8927a16/TCGA-VQ-A8E2-01Z-00-DX1.6B105EA8-4AF5-4CE0-B5B9-46332130B037.svs'\n",
      "Error opening slide: cannot identify image file '/data3/yumi/TCGA_STAD/703bd43d-36bd-445b-8872-868ee24d8736/TCGA-VQ-A8E3-01Z-00-DX1.2CEA9979-EC34-48E2-A092-55757506490A.svs'\n",
      "Error opening slide: cannot identify image file '/data3/yumi/TCGA_STAD/5c226319-4b22-455e-a371-9fb600afb6f2/TCGA-VQ-A8E7-01Z-00-DX1.30F18F35-5E77-429B-9840-27E60F5129B8.svs'\n",
      "Error opening slide: cannot identify image file '/data3/yumi/TCGA_STAD/faacfd14-ca9e-4f44-8b1c-2c4695b0be7e/TCGA-VQ-A8P2-01Z-00-DX1.0515199A-B84D-4973-ACAB-30B919F99FB8.svs'\n",
      "Error opening slide: cannot identify image file '/data3/yumi/TCGA_STAD/e3f1333e-78ef-471b-895a-b812f27f9e9a/TCGA-VQ-A8P3-01Z-00-DX1.1B018BDB-5C60-46D8-A014-CE8CA8ADA191.svs'\n"
     ]
    },
    {
     "name": "stderr",
     "output_type": "stream",
     "text": [
      "100%|██████████| 64/64 [02:07<00:00,  1.99s/it]\n"
     ]
    },
    {
     "name": "stdout",
     "output_type": "stream",
     "text": [
      "Error opening slide: cannot identify image file '/data3/yumi/TCGA_STAD/e6c67119-fd7e-43db-bfa0-d7bdb7347b1d/TCGA-VQ-A8P8-01Z-00-DX1.85D05076-70BE-46A6-B866-94846CD22670.svs'\n"
     ]
    },
    {
     "name": "stderr",
     "output_type": "stream",
     "text": [
      "100%|██████████| 86/86 [03:09<00:00,  2.20s/it]\n",
      "100%|██████████| 87/87 [02:33<00:00,  1.76s/it]\n"
     ]
    },
    {
     "name": "stdout",
     "output_type": "stream",
     "text": [
      "Error opening slide: cannot identify image file '/data3/yumi/TCGA_STAD/4c5d6361-ace8-4acb-974f-5b62f6b09e7a/TCGA-VQ-A8PD-01Z-00-DX1.A9B601CB-83AA-4F0C-BB6D-DD88455FDEE9.svs'\n"
     ]
    },
    {
     "name": "stderr",
     "output_type": "stream",
     "text": [
      "100%|██████████| 88/88 [02:32<00:00,  1.73s/it]\n"
     ]
    },
    {
     "name": "stdout",
     "output_type": "stream",
     "text": [
      "Error opening slide: cannot identify image file '/data3/yumi/TCGA_STAD/73bffc71-7fed-4f78-bbfd-cede101eb9a7/TCGA-VQ-A8PF-01Z-00-DX1.D0353D95-5F56-4D33-B3DA-08AF9574334D.svs'\n",
      "Error opening slide: cannot identify image file '/data3/yumi/TCGA_STAD/3a96792a-026d-4992-b46b-4b237da0fa83/TCGA-VQ-A8PH-01Z-00-DX1.79A66B42-B6CF-49F9-9204-DC21A57DAFF6.svs'\n",
      "Error opening slide: cannot identify image file '/data3/yumi/TCGA_STAD/5ff21ab5-543c-4cc0-aaa3-a11082075bfe/TCGA-VQ-A8PJ-01Z-00-DX1.19F00379-C001-49D2-9B22-6AE0791C8488.svs'\n",
      "Error opening slide: cannot identify image file '/data3/yumi/TCGA_STAD/b8a2f693-6894-45e2-8b75-fab6c7e63693/TCGA-VQ-A8PK-01Z-00-DX1.A13BCC99-05AC-4FEC-8BA8-0EDC92EAE02B.svs'\n",
      "Error opening slide: cannot identify image file '/data3/yumi/TCGA_STAD/ff7aff63-73f8-4bbe-8375-ed05f21f95b8/TCGA-VQ-A8PM-01Z-00-DX1.49FE7D00-2547-4936-803D-F4421C5E5BB3.svs'\n",
      "Error opening slide: cannot identify image file '/data3/yumi/TCGA_STAD/492de5fb-a7cb-417e-a2ff-5c5faae18726/TCGA-VQ-A8PO-01Z-00-DX1.CAF2A0EE-75C7-4AB6-86AC-0397EE1B9FBE.svs'\n",
      "Error opening slide: cannot identify image file '/data3/yumi/TCGA_STAD/b8e05093-b821-473b-be9b-98e1f61e2603/TCGA-VQ-A8PP-01Z-00-DX1.46FE6CC6-A47C-47D3-B21B-A17CF1DDAC76.svs'\n",
      "Error opening slide: cannot identify image file '/data3/yumi/TCGA_STAD/fda77a73-7cab-4ac9-9657-4e34508648c1/TCGA-VQ-A8PQ-01Z-00-DX1.D63AEF37-BAB9-4BFC-9F7E-33509A227B71.svs'\n",
      "Error opening slide: cannot identify image file '/data3/yumi/TCGA_STAD/7d4b2632-e2fb-497a-85fc-591e37acd65d/TCGA-VQ-A8PS-01Z-00-DX1.E93B2855-6350-4037-8C41-E781D887C790.svs'\n",
      "Error opening slide: cannot identify image file '/data3/yumi/TCGA_STAD/ba8c7a7b-48c6-4e1a-8afd-8d0378da7d3f/TCGA-VQ-A8PT-01Z-00-DX1.7A0E6C8F-E0D2-49AC-9C03-3C9B34EB0AE8.svs'\n"
     ]
    },
    {
     "name": "stderr",
     "output_type": "stream",
     "text": [
      "100%|██████████| 87/87 [01:50<00:00,  1.27s/it]\n"
     ]
    },
    {
     "name": "stdout",
     "output_type": "stream",
     "text": [
      "Error opening slide: cannot identify image file '/data3/yumi/TCGA_STAD/61de761c-291a-4a33-8ff4-81e744858442/TCGA-VQ-A8PX-01Z-00-DX1.A1886D51-DC33-4B5A-9C71-56E281F13F52.svs'\n",
      "Error opening slide: cannot identify image file '/data3/yumi/TCGA_STAD/a670d4a9-54dc-4415-8686-46df3f8268d7/TCGA-VQ-A8PY-01Z-00-DX1.EA2C7386-012A-442A-95B3-FFA12BD2684D.svs'\n",
      "Error opening slide: cannot identify image file '/data3/yumi/TCGA_STAD/45cf729f-ee19-465e-b2d1-6279b5aa1c6b/TCGA-VQ-A8PZ-01Z-00-DX1.EE25BECD-7611-48EC-B78C-27F5E5BDD5DF.svs'\n",
      "Error opening slide: cannot identify image file '/data3/yumi/TCGA_STAD/d5b5e2ff-3a49-43f1-be17-fcfe91afeffb/TCGA-VQ-A91A-01Z-00-DX1.B0F3EE79-4246-4534-9763-EB9C6D60F3AA.svs'\n",
      "Error opening slide: cannot identify image file '/data3/yumi/TCGA_STAD/a2cef062-ba81-48c4-b4b6-bac14772e3c8/TCGA-VQ-A91D-01Z-00-DX1.B7E99494-FA16-42B5-AC1C-1498A7989111.svs'\n",
      "Error opening slide: cannot identify image file '/data3/yumi/TCGA_STAD/412a0716-e89c-447d-a83a-ac3cbfb34c41/TCGA-VQ-A91E-01Z-00-DX1.BF3BA276-5A18-4B45-881D-4523C42B5AD8.svs'\n"
     ]
    },
    {
     "name": "stderr",
     "output_type": "stream",
     "text": [
      "100%|██████████| 82/82 [02:05<00:00,  1.53s/it]\n",
      "100%|██████████| 88/88 [03:05<00:00,  2.11s/it]\n"
     ]
    },
    {
     "name": "stdout",
     "output_type": "stream",
     "text": [
      "Error opening slide: cannot identify image file '/data3/yumi/TCGA_STAD/64d22a0e-1271-49a5-ad7f-56143f5cfdb1/TCGA-VQ-A91Q-01Z-00-DX1.9928DA7E-B36D-4E5E-8F0F-BD41DA588DB9.svs'\n",
      "Error opening slide: cannot identify image file '/data3/yumi/TCGA_STAD/5690755e-a901-4c34-9210-dee02b36fee8/TCGA-VQ-A91S-01Z-00-DX1.11BCF3BE-4C79-4F6F-92B5-2C45190DBD86.svs'\n",
      "Error opening slide: cannot identify image file '/data3/yumi/TCGA_STAD/ead190bd-6734-404b-8720-0fa6e9b30602/TCGA-VQ-A91U-01Z-00-DX1.84D19359-4AC3-4C7A-BC5B-7B63173ABB60.svs'\n",
      "Error opening slide: cannot identify image file '/data3/yumi/TCGA_STAD/ff447a62-3fb3-48ff-bb1c-d4a6808bb810/TCGA-VQ-A91V-01Z-00-DX1.E271D33E-3E57-445D-8373-2386B56FE9A9.svs'\n"
     ]
    },
    {
     "name": "stderr",
     "output_type": "stream",
     "text": [
      "100%|██████████| 81/81 [02:09<00:00,  1.60s/it]\n"
     ]
    },
    {
     "name": "stdout",
     "output_type": "stream",
     "text": [
      "Error opening slide: cannot identify image file '/data3/yumi/TCGA_STAD/4c8edd2c-66d3-44ff-bceb-6391f27d9f76/TCGA-VQ-A91X-01Z-00-DX1.8D0815BF-2430-4471-881E-1E12357ACEA4.svs'\n",
      "Error opening slide: cannot identify image file '/data3/yumi/TCGA_STAD/79538560-30c5-4276-baa3-e31f4f006a9b/TCGA-VQ-A91Y-01Z-00-DX1.9401E1F3-4110-4F1E-99A0-36D4E1518650.svs'\n",
      "Error opening slide: cannot identify image file '/data3/yumi/TCGA_STAD/fd9a9f19-54b3-46e1-a1c5-c0f9a14ca0c3/TCGA-VQ-A91Z-01Z-00-DX1.14F618B5-D177-4129-A7C1-99373536DE45.svs'\n",
      "Error opening slide: cannot identify image file '/data3/yumi/TCGA_STAD/763c0c2b-7c79-4fbe-ac5a-ae591d1c34fb/TCGA-VQ-A922-01Z-00-DX1.445608A5-D4F1-44AB-8642-3C944D753D87.svs'\n",
      "Error opening slide: cannot identify image file '/data3/yumi/TCGA_STAD/a53fa7dd-89ae-4215-9a89-e2a24070724d/TCGA-VQ-A923-01Z-00-DX1.86FE7ABA-9C93-4637-A71F-F3EBA2BB4BDF.svs'\n",
      "Error opening slide: cannot identify image file '/data3/yumi/TCGA_STAD/6e1428c3-8189-42df-8c73-05d078d9905a/TCGA-VQ-A924-01Z-00-DX1.736B41F3-9678-4FAF-AE86-FCAC4F6DCBD3.svs'\n",
      "Error opening slide: cannot identify image file '/data3/yumi/TCGA_STAD/65d3c549-1949-4f80-9f98-28ec50ac8367/TCGA-VQ-A925-01Z-00-DX1.D9AB5ADD-B946-4994-A3F2-646888C69E0D.svs'\n",
      "Error opening slide: cannot identify image file '/data3/yumi/TCGA_STAD/b1e42e53-21cc-4ed9-8754-60a4ce3ebee8/TCGA-VQ-A927-01Z-00-DX1.F4ACCDED-FBF5-4900-B000-638B3015EBFA.svs'\n",
      "Error opening slide: cannot identify image file '/data3/yumi/TCGA_STAD/65316ac3-1896-4337-99ed-ec91e0cff3f2/TCGA-VQ-A928-01Z-00-DX1.633B64F3-2F87-4C76-ABC4-4E03D04AF9EC.svs'\n",
      "Error opening slide: cannot identify image file '/data3/yumi/TCGA_STAD/aad412f0-dcd4-437c-9f15-643424fb6856/TCGA-VQ-A92D-01Z-00-DX1.13EF7944-C276-4A3B-B9B3-7DC65A82AD60.svs'\n",
      "Error opening slide: cannot identify image file '/data3/yumi/TCGA_STAD/9aa29812-c2bb-4fa5-be54-89e61c2d37a4/TCGA-VQ-A94O-01Z-00-DX1.83040E68-904F-4F7E-B4E1-34C860098228.svs'\n",
      "Error opening slide: cannot identify image file '/data3/yumi/TCGA_STAD/959972fe-242d-404a-8a45-807ce9613492/TCGA-VQ-A94P-01Z-00-DX1.83E87D6C-D210-4C06-BB5B-49A1F3E14EE0.svs'\n"
     ]
    },
    {
     "name": "stderr",
     "output_type": "stream",
     "text": [
      "100%|██████████| 75/75 [01:43<00:00,  1.38s/it]\n"
     ]
    },
    {
     "name": "stdout",
     "output_type": "stream",
     "text": [
      "Error opening slide: cannot identify image file '/data3/yumi/TCGA_STAD/bea89c41-7a45-47fd-a1ff-e2521ba3e86f/TCGA-VQ-A94T-01Z-00-DX1.DEFEFBD0-CE26-4F75-B9C4-F55344A7CAA8.svs'\n",
      "Error opening slide: cannot identify image file '/data3/yumi/TCGA_STAD/d70283f3-c89f-4d1e-ac03-fc102cc40544/TCGA-VQ-A94U-01Z-00-DX1.5E27CE1E-CF07-4219-9536-D5F898E47A9B.svs'\n",
      "Error opening slide: cannot identify image file '/data3/yumi/TCGA_STAD/656ec3ab-9939-407d-8342-be78a875828a/TCGA-VQ-AA64-01Z-00-DX1.90641552-B556-4020-AA11-21E754BD5891.svs'\n",
      "Error opening slide: cannot identify image file '/data3/yumi/TCGA_STAD/e7ec3599-5f8b-428e-9794-d71b3238bca0/TCGA-VQ-AA68-01Z-00-DX1.CF6FBB15-5887-4406-946A-AF93918EC318.svs'\n",
      "Error opening slide: cannot identify image file '/data3/yumi/TCGA_STAD/62bd51c4-7e7c-49b6-b666-7d6507e33151/TCGA-VQ-AA69-01Z-00-DX1.1EEF2AD7-6470-44B5-9E87-E77AE47262F0.svs'\n"
     ]
    },
    {
     "name": "stderr",
     "output_type": "stream",
     "text": [
      "100%|██████████| 66/66 [02:35<00:00,  2.36s/it]\n"
     ]
    },
    {
     "name": "stdout",
     "output_type": "stream",
     "text": [
      "Error opening slide: cannot identify image file '/data3/yumi/TCGA_STAD/81bb849e-48d2-4805-95f0-f18dc213b3cf/TCGA-VQ-AA6B-01Z-00-DX1.C6CB7290-4A83-4963-8840-68BC208D1232.svs'\n"
     ]
    },
    {
     "name": "stderr",
     "output_type": "stream",
     "text": [
      "100%|██████████| 71/71 [02:16<00:00,  1.92s/it]\n"
     ]
    },
    {
     "name": "stdout",
     "output_type": "stream",
     "text": [
      "Error opening slide: cannot identify image file '/data3/yumi/TCGA_STAD/a615ab15-077e-417c-9171-5aebda2b7261/TCGA-VQ-AA6F-01Z-00-DX1.EA90F7CF-FE3F-4FED-A8E0-C83FEE96F4CA.svs'\n",
      "Error opening slide: cannot identify image file '/data3/yumi/TCGA_STAD/ec1703a8-ada8-40f8-a578-6af2c51317aa/TCGA-VQ-AA6G-01Z-00-DX1.3BDB7578-931A-47DB-933F-C7CA7CD50EDE.svs'\n"
     ]
    },
    {
     "name": "stderr",
     "output_type": "stream",
     "text": [
      "100%|██████████| 88/88 [03:04<00:00,  2.10s/it]"
     ]
    },
    {
     "name": "stdout",
     "output_type": "stream",
     "text": [
      "Error opening slide: cannot identify image file '/data3/yumi/TCGA_STAD/4cebb542-7b44-44bb-b048-4414d88410c0/TCGA-VQ-AA6J-01Z-00-DX1.212AF324-26E9-4807-A64B-6325D6E94507.svs'\n",
      "Error opening slide: cannot identify image file '/data3/yumi/TCGA_STAD/c09810f3-d4d9-4e2f-a87f-1604d848edfc/TCGA-VQ-AA6K-01Z-00-DX1.8AF14797-0C31-4DF3-94A4-868EC96E7BB1.svs'\n",
      "Error opening slide: cannot identify image file '/data3/yumi/TCGA_STAD/cba52a6e-ef93-424c-b508-d9fc625e0d65/TCGA-ZA-A8F6-01Z-00-DX1.89510833-5BC8-4983-817E-0E9244824168.svs'\n",
      "Error opening slide: cannot identify image file '/data3/yumi/TCGA_STAD/e895d806-6ee8-4069-825c-b9e7494071da/TCGA-ZQ-A9CR-01Z-00-DX1.C9AC9991-7054-4068-A7AA-9D1EB7F040A3.svs'\n"
     ]
    },
    {
     "name": "stderr",
     "output_type": "stream",
     "text": [
      "\n"
     ]
    }
   ],
   "source": [
    "target_patch_size = 256\n",
    "target_mpp = 1\n",
    "\n",
    "tissue_ratio = 0.3\n",
    "base_save_path = '/data3/yein/TCGA_STAD_patches'\n",
    "\n",
    "for svs_file in svs_files_sorted:\n",
    "    try:\n",
    "        slide = openslide.open_slide(svs_file[1])\n",
    "    \n",
    "    except openslide.OpenSlideUnsupportedFormatError:\n",
    "        print(f\"Unsupported or missing image file: {svs_file[1]}\")\n",
    "        continue\n",
    "    except Exception as e:\n",
    "        print(f\"Error opening slide: {e}\")\n",
    "        continue\n",
    "\n",
    "    slide_name = os.path.basename(svs_file[0]).replace('.svs', '')\n",
    "    save_path = os.path.join(base_save_path, slide_name)\n",
    "    os.makedirs(save_path, exist_ok=True)\n",
    "\n",
    "    min_level = slide.level_count - 1\n",
    "    min_downsample = slide.level_downsamples[min_level]\n",
    "    min_size = slide.level_dimensions[min_level]\n",
    "\n",
    "    whole_region = slide.read_region(location=(0, 0), level=min_level, size=min_size)\n",
    "    whole_image = np.array(whole_region)[..., :3]\n",
    "    tissue_mask = get_tissue_mask(whole_image)\n",
    "\n",
    "    level0_mpp = round(float(slide.properties.get('openslide.mpp-x')), 2)\n",
    "    level0_patch_size = int((target_patch_size * target_mpp) / level0_mpp)\n",
    "    level0_size = slide.level_dimensions[0]\n",
    "\n",
    "    levelm_mpp = level0_mpp * min_downsample\n",
    "    levelm_patch_size = int((target_patch_size * target_mpp) / levelm_mpp)\n",
    "\n",
    "    patch_count = 0\n",
    "\n",
    "    for start_level0_y in trange(0, level0_size[1], level0_patch_size):\n",
    "        for start_level0_x in range(0, level0_size[0], level0_patch_size):\n",
    "            start_levelm_x = int(start_level0_x / min_downsample)\n",
    "            start_levelm_y = int(start_level0_y / min_downsample)\n",
    "            end_levelm_x = int((start_level0_x + level0_patch_size) / min_downsample)\n",
    "            end_levelm_y = int((start_level0_y + level0_patch_size) / min_downsample)\n",
    "    \n",
    "            tissue_mask_patch = tissue_mask[start_levelm_y:end_levelm_y, start_levelm_x:end_levelm_x]\n",
    "    \n",
    "            if get_ratio_mask(tissue_mask_patch) >= tissue_ratio:\n",
    "                image_patch = np.array(slide.read_region(\n",
    "                    location=(start_level0_x, start_level0_y),\n",
    "                    level=0,\n",
    "                    size=(level0_patch_size, level0_patch_size)\n",
    "                )).astype(np.uint8)[..., :3]\n",
    "                patch_count += 1\n",
    "                execute_patch(image_patch, target_patch_size, save_path, start_level0_x, start_level0_y, patch_count, 0)  # 0 for non-tumor        \n",
    "\n",
    "    # except Exception as e:\n",
    "    #     print(f\"Error processing file {svs_file}: {e}\")"
   ]
  },
  {
   "cell_type": "code",
   "execution_count": null,
   "metadata": {},
   "outputs": [],
   "source": [
    "# target_patch_size = 224\n",
    "# target_mpp = 1000\n",
    "\n",
    "# tissue_ratio = 0.3\n",
    "# base_save_path = './path'\n",
    "# base_slide_path = './path'\n",
    "\n",
    "# for slide_filename in tif_files_sorted:\n",
    "#     slide_path = os.path.join(base_slide_path, slide_filename)\n",
    "#     save_path = os.path.join(base_save_path, slide_filename.split('.')[0])\n",
    "#     os.makedirs(save_path, exist_ok=True)\n",
    "    \n",
    "#     slide = openslide.open_slide(slide_path)\n",
    "    \n",
    "#     min_level = slide.level_count - 1\n",
    "#     min_downsample = slide.level_downsamples[slide.level_count - 1]\n",
    "#     min_size = slide.level_dimensions[slide.level_count - 1]\n",
    "    \n",
    "#     whole_region = slide.read_region(location=(0, 0), level=min_level, size=min_size)\n",
    "#     whole_image = np.array(whole_region)[..., :3]\n",
    "#     tissue_mask = get_tissue_mask(whole_image)\n",
    "    \n",
    "#     level0_mpp = round(float(slide.properties.get('openslide.mpp-x')), 2)\n",
    "#     level0_patch_size = int((target_patch_size * target_mpp) / level0_mpp)\n",
    "#     level0_size = slide.level_dimensions[0]\n",
    "\n",
    "#     levelm_mpp = level0_mpp * min_downsample\n",
    "#     levelm_patch_size = int((target_patch_size * target_mpp) / levelm_mpp)\n",
    "    \n",
    "#     patch_count = 0\n",
    "    \n",
    "#     for start_level0_y in trange(0, level0_size[1], level0_patch_size):\n",
    "#         for start_level0_x in range(0, level0_size[0], level0_patch_size):\n",
    "#             start_levelm_x = int(start_level0_x / min_downsample)\n",
    "#             start_levelm_y = int(start_level0_y / min_downsample)\n",
    "#             end_levelm_x = int((start_level0_x + level0_patch_size) / min_downsample)\n",
    "#             end_levelm_y = int((start_level0_y + level0_patch_size) / min_downsample)\n",
    "    \n",
    "#             tissue_mask_patch = tissue_mask[start_levelm_y:end_levelm_y, start_levelm_x:end_levelm_x]\n",
    "    \n",
    "#             if get_ratio_mask(tissue_mask_patch) >= tissue_ratio:\n",
    "#                 image_patch = np.array(slide.read_region(\n",
    "#                     location=(start_level0_x, start_level0_y),\n",
    "#                     level=0,\n",
    "#                     size=(level0_patch_size, level0_patch_size)\n",
    "#                 )).astype(np.uint8)[..., :3]\n",
    "#                 patch_count += 1\n",
    "#                 execute_patch(image_patch, target_patch_size, save_path, start_level0_x, start_level0_y, patch_count, 0)  # 0 for non-tumor"
   ]
  }
 ],
 "metadata": {
  "kernelspec": {
   "display_name": "py39",
   "language": "python",
   "name": "python3"
  },
  "language_info": {
   "codemirror_mode": {
    "name": "ipython",
    "version": 3
   },
   "file_extension": ".py",
   "mimetype": "text/x-python",
   "name": "python",
   "nbconvert_exporter": "python",
   "pygments_lexer": "ipython3",
   "version": "3.9.21"
  }
 },
 "nbformat": 4,
 "nbformat_minor": 2
}
